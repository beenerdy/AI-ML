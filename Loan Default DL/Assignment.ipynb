{
 "cells": [
  {
   "cell_type": "code",
   "execution_count": 15,
   "metadata": {
    "id": "iBtITKgJlDhJ"
   },
   "outputs": [],
   "source": [
    "import pandas as pd\n",
    "import numpy as np\n",
    "import matplotlib.pyplot as plt\n",
    "import seaborn as sns\n",
    "\n",
    "%matplotlib inline"
   ]
  },
  {
   "cell_type": "code",
   "execution_count": 16,
   "metadata": {
    "colab": {
     "base_uri": "https://localhost:8080/",
     "height": 0
    },
    "id": "8vQgAoZDlmSl",
    "outputId": "2d73279f-e4f4-41dc-fd99-3cb5cae241ac"
   },
   "outputs": [
    {
     "name": "stdout",
     "output_type": "stream",
     "text": [
      "<class 'pandas.core.frame.DataFrame'>\n",
      "RangeIndex: 9578 entries, 0 to 9577\n",
      "Data columns (total 14 columns):\n",
      " #   Column             Non-Null Count  Dtype  \n",
      "---  ------             --------------  -----  \n",
      " 0   credit.policy      9578 non-null   int64  \n",
      " 1   purpose            9578 non-null   object \n",
      " 2   int.rate           9578 non-null   float64\n",
      " 3   installment        9578 non-null   float64\n",
      " 4   log.annual.inc     9578 non-null   float64\n",
      " 5   dti                9578 non-null   float64\n",
      " 6   fico               9578 non-null   int64  \n",
      " 7   days.with.cr.line  9578 non-null   float64\n",
      " 8   revol.bal          9578 non-null   int64  \n",
      " 9   revol.util         9578 non-null   float64\n",
      " 10  inq.last.6mths     9578 non-null   int64  \n",
      " 11  delinq.2yrs        9578 non-null   int64  \n",
      " 12  pub.rec            9578 non-null   int64  \n",
      " 13  not.fully.paid     9578 non-null   int64  \n",
      "dtypes: float64(6), int64(7), object(1)\n",
      "memory usage: 1.0+ MB\n"
     ]
    }
   ],
   "source": [
    "df=pd.read_csv('./loan_data.csv')\n",
    "df.info()"
   ]
  },
  {
   "cell_type": "markdown",
   "metadata": {
    "id": "Afvg67PObwF0"
   },
   "source": [
    "- **credit.policy**: 1 if the customer meets the credit underwriting criteria of LendingClub.com, and 0 otherwise.\n",
    "- **purpose**: The purpose of the loan (takes values \"credit_card\", \"debt_consolidation\", \"educational\", \"major_purchase\", \"small_business\", and \"all_other\").\n",
    "- **int.rate**: The interest rate of the loan, as a proportion (a rate of 11% would be stored as 0.11). Borrowers judged by LendingClub.com to be more risky are assigned higher interest rates.\n",
    "- **installment**: The monthly installments owed by the borrower if the loan is funded.\n",
    "- **log.annual.inc**: The natural log of the self-reported annual income of the borrower.\n",
    "- **dti**: The debt-to-income ratio of the borrower (amount of debt divided by annual income).\n",
    "- **fico**: The FICO credit score of the borrower. The higher the score the lower the risk and the more likerly creditors will lend money.\n",
    "- **days.with.cr.line**: The number of days the borrower has had a credit line.\n",
    "- **revol.bal**: The borrower's revolving balance (amount unpaid at the end of the credit card billing cycle).\n",
    "- **revol.util**: The borrower's revolving line utilization rate (the amount of the credit line used relative to total credit available).\n",
    "- **inq.last.6mths**: The borrower's number of inquiries by creditors in the last 6 months.\n",
    "- **delinq.2yrs**: The number of times the borrower had been 30+ days past due on a payment in the past 2 years.\n",
    "- **pub.rec**: The borrower's number of derogatory public records (bankruptcy filings, tax liens, or judgments)."
   ]
  },
  {
   "cell_type": "markdown",
   "metadata": {
    "id": "GXrlLi5Amwi4"
   },
   "source": [
    "### EDA"
   ]
  },
  {
   "cell_type": "code",
   "execution_count": 17,
   "metadata": {
    "colab": {
     "base_uri": "https://localhost:8080/",
     "height": 296
    },
    "id": "nVl87kc6m5ig",
    "outputId": "78e3700e-679a-45b8-dbb9-066f07c958d0"
   },
   "outputs": [
    {
     "data": {
      "text/plain": [
       "<matplotlib.axes._subplots.AxesSubplot at 0x7f9dcbf19f90>"
      ]
     },
     "execution_count": 17,
     "metadata": {},
     "output_type": "execute_result"
    },
    {
     "data": {
      "image/png": "[encoded data removed]",
      "text/plain": [
       "<Figure size 432x288 with 1 Axes>"
      ]
     },
     "metadata": {
      "needs_background": "light"
     },
     "output_type": "display_data"
    }
   ],
   "source": [
    "sns.countplot(x='not.fully.paid',data=df)"
   ]
  },
  {
   "cell_type": "code",
   "execution_count": 18,
   "metadata": {
    "colab": {
     "base_uri": "https://localhost:8080/",
     "height": 0
    },
    "id": "5Qls3g3KoLbo",
    "outputId": "d7fdb0af-8523-47d2-d771-d3691ac4c11c"
   },
   "outputs": [
    {
     "data": {
      "text/plain": [
       "not.fully.paid\n",
       "0    0.839946\n",
       "1    0.160054\n",
       "Name: not.fully.paid, dtype: float64"
      ]
     },
     "execution_count": 18,
     "metadata": {},
     "output_type": "execute_result"
    }
   ],
   "source": [
    "df.groupby('not.fully.paid')['not.fully.paid'].count()/len(df)"
   ]
  },
  {
   "cell_type": "markdown",
   "metadata": {
    "id": "lfe4OzZ4Wk2g"
   },
   "source": []
  },
  {
   "cell_type": "markdown",
   "metadata": {
    "id": "pfDItFgynMo3"
   },
   "source": [
    "From the chart above we can observe:\n",
    "\n",
    "1. the data is unballanced\n",
    "2. about ~83% of the loans are paid\n",
    "3. about ~16% of the loans are not paid"
   ]
  },
  {
   "cell_type": "markdown",
   "metadata": {
    "id": "xEx5JeRNWn68"
   },
   "source": [
    "since the data is inbalanced I will oversample this data"
   ]
  },
  {
   "cell_type": "markdown",
   "metadata": {
    "id": "4YW_s8k7nh8g"
   },
   "source": [
    "Visualise dataset grouped by load purpose."
   ]
  },
  {
   "cell_type": "code",
   "execution_count": 19,
   "metadata": {
    "colab": {
     "base_uri": "https://localhost:8080/",
     "height": 462
    },
    "id": "RuTVwEWdnjS4",
    "outputId": "ac5e31bc-a27f-4a07-a620-eba97c3e5606"
   },
   "outputs": [
    {
     "data": {
      "text/plain": [
       "<matplotlib.axes._subplots.AxesSubplot at 0x7f9dcb400250>"
      ]
     },
     "execution_count": 19,
     "metadata": {},
     "output_type": "execute_result"
    },
    {
     "data": {
      "image/png": "[encoded data removed]",
      "text/plain": [
       "<Figure size 792x504 with 1 Axes>"
      ]
     },
     "metadata": {
      "needs_background": "light"
     },
     "output_type": "display_data"
    }
   ],
   "source": [
    "plt.figure(figsize=(11,7))\n",
    "sns.countplot(x='purpose',hue='not.fully.paid',data=df)"
   ]
  },
  {
   "cell_type": "markdown",
   "metadata": {
    "id": "fR1Q793YpzZR"
   },
   "source": [
    "From this chart we can conclude:\n",
    "\n",
    "1. The highest purpose for not paid is debt_consolidation and then second is other\n",
    "2. However the highest paid back is also debt_consolidation followd by all_other"
   ]
  },
  {
   "cell_type": "code",
   "execution_count": 20,
   "metadata": {
    "colab": {
     "base_uri": "https://localhost:8080/",
     "height": 405
    },
    "id": "If6tdId_oz05",
    "outputId": "5d1dee84-6b9c-4862-ff0f-24b30c158fab"
   },
   "outputs": [
    {
     "data": {
      "text/plain": [
       "Text(0.5, 0, 'FICO')"
      ]
     },
     "execution_count": 20,
     "metadata": {},
     "output_type": "execute_result"
    },
    {
     "data": {
      "image/png": "[encoded data removed]",
      "text/plain": [
       "<Figure size 1008x432 with 1 Axes>"
      ]
     },
     "metadata": {
      "needs_background": "light"
     },
     "output_type": "display_data"
    }
   ],
   "source": [
    "plt.figure(figsize=(14,6))\n",
    "df[df['credit.policy']==1]['fico'].hist(label='credit.policy=1')\n",
    "df[df['credit.policy']==0]['fico'].hist(label='credit.policy=0')\n",
    "plt.legend()\n",
    "plt.xlabel('FICO')"
   ]
  },
  {
   "cell_type": "markdown",
   "metadata": {
    "id": "Xbpqm2n4qWbC"
   },
   "source": [
    "Blue rapresents in blue people with a positive (1) credit policy which means that they were meeting the criterias for the loan and the histogram represents their FICO score.\n",
    "\n",
    "Orange rapresents the people with a negative (0) credit policy which menas that hey did not meet the criterias for the load and the histogram represents their FICO score."
   ]
  },
  {
   "cell_type": "code",
   "execution_count": 21,
   "metadata": {
    "colab": {
     "base_uri": "https://localhost:8080/",
     "height": 405
    },
    "id": "Z8kNiHVkrR9L",
    "outputId": "1302dfa2-3b70-438c-912d-f9e6682036ba"
   },
   "outputs": [
    {
     "data": {
      "text/plain": [
       "Text(0.5, 0, 'FICO')"
      ]
     },
     "execution_count": 21,
     "metadata": {},
     "output_type": "execute_result"
    },
    {
     "data": {
      "image/png": "[encoded data removed]",
      "text/plain": [
       "<Figure size 1008x432 with 1 Axes>"
      ]
     },
     "metadata": {
      "needs_background": "light"
     },
     "output_type": "display_data"
    }
   ],
   "source": [
    "plt.figure(figsize=(14,6))\n",
    "df[df['not.fully.paid']==0]['fico'].hist(label='not.fully.paid=0')\n",
    "df[df['not.fully.paid']==1]['fico'].hist(label='not.fully.paid=1')\n",
    "plt.legend()\n",
    "plt.xlabel('FICO')"
   ]
  },
  {
   "cell_type": "markdown",
   "metadata": {
    "id": "jO_CF1k7sMrk"
   },
   "source": [
    "if we compare the two histograms we can notice that:\n",
    "\n",
    "1. People with a high FICO score tend to pay their debt\n",
    "2. People with a low FICO score tend to not pay their debt as expected\n",
    "3. There are lots of people with a FICO score between 650 and 700 which paid their debt so maybe the FICO score was to conservative on those people"
   ]
  },
  {
   "cell_type": "code",
   "execution_count": 22,
   "metadata": {
    "colab": {
     "base_uri": "https://localhost:8080/",
     "height": 405
    },
    "id": "M3E5rhKxzaVk",
    "outputId": "c6dd1817-78f6-49b7-f00a-7a49093a6d7f"
   },
   "outputs": [
    {
     "data": {
      "text/plain": [
       "<matplotlib.axes._subplots.AxesSubplot at 0x7f9dcae204d0>"
      ]
     },
     "execution_count": 22,
     "metadata": {},
     "output_type": "execute_result"
    },
    {
     "data": {
      "image/png": "[encoded data removed]",
      "text/plain": [
       "<Figure size 1008x432 with 1 Axes>"
      ]
     },
     "metadata": {
      "needs_background": "light"
     },
     "output_type": "display_data"
    }
   ],
   "source": [
    "plt.figure(figsize=(14,6))\n",
    "sns.lineplot(data=df, x=\"fico\", y=\"int.rate\")"
   ]
  },
  {
   "cell_type": "markdown",
   "metadata": {
    "id": "kVJeA1JwznXe"
   },
   "source": [
    "From this line chart we can notice that the higher the FICO the lower the interest rate"
   ]
  },
  {
   "cell_type": "code",
   "execution_count": 23,
   "metadata": {
    "colab": {
     "base_uri": "https://localhost:8080/",
     "height": 405
    },
    "id": "MK5WLF31tFJh",
    "outputId": "61ff6f72-a30f-4ab0-ba7a-367fd7ad808b"
   },
   "outputs": [
    {
     "data": {
      "text/plain": [
       "Text(0.5, 0, 'int.rate')"
      ]
     },
     "execution_count": 23,
     "metadata": {},
     "output_type": "execute_result"
    },
    {
     "data": {
      "image/png": "[encoded data removed]",
      "text/plain": [
       "<Figure size 1008x432 with 1 Axes>"
      ]
     },
     "metadata": {
      "needs_background": "light"
     },
     "output_type": "display_data"
    }
   ],
   "source": [
    "plt.figure(figsize=(14,6))\n",
    "df[df['not.fully.paid']==0]['int.rate'].hist(label='not.fully.paid=0')\n",
    "df[df['not.fully.paid']==1]['int.rate'].hist(label='not.fully.paid=1')\n",
    "plt.legend()\n",
    "plt.xlabel('int.rate')"
   ]
  },
  {
   "cell_type": "markdown",
   "metadata": {
    "id": "rJ4UKunnwRwg"
   },
   "source": [
    "The interest rate has a normal distribution for both paid and not paid loans which suggests that it does not majorly influence if the loan will be paid or not"
   ]
  },
  {
   "cell_type": "markdown",
   "metadata": {
    "id": "lyb1UVqtw9jY"
   },
   "source": [
    "### Transform categorical values into numerical values (discrete)\n",
    "\n",
    "Before transforming our categorical feautres to discrete ones we need to balance our inbalanced data, if we don't do so then we'll need to transform the categorical values once again for the newlly added oversampled data."
   ]
  },
  {
   "cell_type": "code",
   "execution_count": 24,
   "metadata": {
    "colab": {
     "base_uri": "https://localhost:8080/",
     "height": 0
    },
    "id": "N5KGdmbXWq1c",
    "outputId": "2fbc655f-1496-4934-8c73-ee9ad63660ad"
   },
   "outputs": [
    {
     "name": "stdout",
     "output_type": "stream",
     "text": [
      "paid 8045\n",
      "not paid 1533\n"
     ]
    }
   ],
   "source": [
    "#remember value counts returns a tuple because not fully paid can be 0 or 1\n",
    "count_paid, count_not_paid=df['not.fully.paid'].value_counts()\n",
    "print('paid', count_paid)\n",
    "print('not paid', count_not_paid)"
   ]
  },
  {
   "cell_type": "code",
   "execution_count": 25,
   "metadata": {
    "id": "JZMw8XpWYKCq"
   },
   "outputs": [],
   "source": [
    "df_paid=df[df['not.fully.paid']==0]\n",
    "df_not_paid=df[df['not.fully.paid']==1]"
   ]
  },
  {
   "cell_type": "code",
   "execution_count": 26,
   "metadata": {
    "colab": {
     "base_uri": "https://localhost:8080/",
     "height": 0
    },
    "id": "n7qDjQIqYVO6",
    "outputId": "e6ebd7de-1083-4f18-8e7e-7cb0b8ea2df1"
   },
   "outputs": [
    {
     "name": "stdout",
     "output_type": "stream",
     "text": [
      "Oversampling\n",
      "0    8045\n",
      "1    8045\n",
      "Name: not.fully.paid, dtype: int64\n"
     ]
    }
   ],
   "source": [
    "df_not_paid_over=df_not_paid.sample(count_paid, replace=True)\n",
    "df_test_over=pd.concat([df_paid,df_not_paid_over], axis=0)\n",
    "\n",
    "print('Oversampling')\n",
    "print(df_test_over['not.fully.paid'].value_counts())"
   ]
  },
  {
   "cell_type": "code",
   "execution_count": 27,
   "metadata": {
    "colab": {
     "base_uri": "https://localhost:8080/",
     "height": 296
    },
    "id": "oZcjq10OaTD-",
    "outputId": "c66507d7-9f26-47b7-c9f3-e3935dea9fd3"
   },
   "outputs": [
    {
     "data": {
      "text/plain": [
       "<matplotlib.axes._subplots.AxesSubplot at 0x7f9dcac66fd0>"
      ]
     },
     "execution_count": 27,
     "metadata": {},
     "output_type": "execute_result"
    },
    {
     "data": {
      "image/png": "[encoded data removed]",
      "text/plain": [
       "<Figure size 432x288 with 1 Axes>"
      ]
     },
     "metadata": {
      "needs_background": "light"
     },
     "output_type": "display_data"
    }
   ],
   "source": [
    "sns.countplot(x='not.fully.paid',data=df_test_over)\n"
   ]
  },
  {
   "cell_type": "code",
   "execution_count": 28,
   "metadata": {
    "colab": {
     "base_uri": "https://localhost:8080/",
     "height": 0
    },
    "id": "dkfIG5Y8wpTW",
    "outputId": "911e1093-5536-490c-8974-6ac6fa3ebee4"
   },
   "outputs": [
    {
     "name": "stdout",
     "output_type": "stream",
     "text": [
      "<class 'pandas.core.frame.DataFrame'>\n",
      "Int64Index: 16090 entries, 0 to 9203\n",
      "Data columns (total 19 columns):\n",
      " #   Column                      Non-Null Count  Dtype  \n",
      "---  ------                      --------------  -----  \n",
      " 0   credit.policy               16090 non-null  int64  \n",
      " 1   int.rate                    16090 non-null  float64\n",
      " 2   installment                 16090 non-null  float64\n",
      " 3   log.annual.inc              16090 non-null  float64\n",
      " 4   dti                         16090 non-null  float64\n",
      " 5   fico                        16090 non-null  int64  \n",
      " 6   days.with.cr.line           16090 non-null  float64\n",
      " 7   revol.bal                   16090 non-null  int64  \n",
      " 8   revol.util                  16090 non-null  float64\n",
      " 9   inq.last.6mths              16090 non-null  int64  \n",
      " 10  delinq.2yrs                 16090 non-null  int64  \n",
      " 11  pub.rec                     16090 non-null  int64  \n",
      " 12  not.fully.paid              16090 non-null  int64  \n",
      " 13  purpose_credit_card         16090 non-null  uint8  \n",
      " 14  purpose_debt_consolidation  16090 non-null  uint8  \n",
      " 15  purpose_educational         16090 non-null  uint8  \n",
      " 16  purpose_home_improvement    16090 non-null  uint8  \n",
      " 17  purpose_major_purchase      16090 non-null  uint8  \n",
      " 18  purpose_small_business      16090 non-null  uint8  \n",
      "dtypes: float64(6), int64(7), uint8(6)\n",
      "memory usage: 2.3 MB\n"
     ]
    }
   ],
   "source": [
    "cols_feature=['purpose']\n",
    "final_data=pd.get_dummies(df_test_over,columns=cols_feature,drop_first=True)\n",
    "final_data.info()"
   ]
  },
  {
   "cell_type": "code",
   "execution_count": 29,
   "metadata": {
    "colab": {
     "base_uri": "https://localhost:8080/",
     "height": 748
    },
    "id": "EqIkP5oEg1Z_",
    "outputId": "3d4ed879-d4ea-4eda-ecae-99be9cf9db82"
   },
   "outputs": [
    {
     "data": {
      "text/plain": [
       "<matplotlib.axes._subplots.AxesSubplot at 0x7f9dcb8d4f50>"
      ]
     },
     "execution_count": 29,
     "metadata": {},
     "output_type": "execute_result"
    },
    {
     "data": {
      "image/png": "[encoded data removed]",
      "text/plain": [
       "<Figure size 864x720 with 2 Axes>"
      ]
     },
     "metadata": {
      "needs_background": "light"
     },
     "output_type": "display_data"
    }
   ],
   "source": [
    "plt.figure(figsize=(12,10))\n",
    "corr=final_data.corr()\n",
    "sns.heatmap(data=corr)"
   ]
  },
  {
   "cell_type": "markdown",
   "metadata": {
    "id": "YGyg6kQxz2y_"
   },
   "source": [
    "###  Additional Feature Engineering\n",
    "\n",
    "In this step I will remove features that have strong correlation, strong correlation."
   ]
  },
  {
   "cell_type": "code",
   "execution_count": 30,
   "metadata": {
    "id": "Le3-6uUQ2Efq"
   },
   "outputs": [],
   "source": [
    "predictors = final_data.drop(['not.fully.paid'], axis = 1) \n",
    "criterion = final_data[\"not.fully.paid\"]"
   ]
  },
  {
   "cell_type": "code",
   "execution_count": 31,
   "metadata": {
    "id": "fpPODPe83oCw"
   },
   "outputs": [],
   "source": [
    "threshold = 0.65\n",
    "\n",
    "def high_cor_function(df):\n",
    "    cor = df.corr()\n",
    "    corrm = np.corrcoef(df.transpose())\n",
    "    corr = corrm - np.diagflat(corrm.diagonal())\n",
    "    print(\"max corr:\",corr.max(), \", min corr: \", corr.min())\n",
    "    c1 = cor.stack().sort_values(ascending=False).drop_duplicates()\n",
    "    high_cor = abs(c1[c1.values!=1])\n",
    "    thresh = threshold \n",
    "    display(high_cor[high_cor>thresh])"
   ]
  },
  {
   "cell_type": "code",
   "execution_count": 32,
   "metadata": {
    "colab": {
     "base_uri": "https://localhost:8080/",
     "height": 69
    },
    "id": "Ijkmx1zK4z8H",
    "outputId": "82490f21-0f73-4db4-bb2c-97e2b15ccf6c"
   },
   "outputs": [
    {
     "name": "stdout",
     "output_type": "stream",
     "text": [
      "max corr: 0.47809644042828764 , min corr:  -0.6790513359731427\n"
     ]
    },
    {
     "data": {
      "text/plain": [
       "fico  int.rate    0.679051\n",
       "dtype: float64"
      ]
     },
     "metadata": {},
     "output_type": "display_data"
    }
   ],
   "source": [
    "high_cor_function(predictors)"
   ]
  },
  {
   "cell_type": "markdown",
   "metadata": {
    "id": "Yd-KL-3f5XjY"
   },
   "source": [
    "From the above calculations we can identify fico and int.rate as being highly correlated with a score of 0.68"
   ]
  },
  {
   "cell_type": "code",
   "execution_count": 33,
   "metadata": {
    "id": "t0vyhNu542XL"
   },
   "outputs": [],
   "source": [
    "final_data=final_data.drop(['int.rate'], axis=1)"
   ]
  },
  {
   "cell_type": "markdown",
   "metadata": {
    "id": "riBmO6a05x3y"
   },
   "source": [
    "### Modeling"
   ]
  },
  {
   "cell_type": "code",
   "execution_count": 34,
   "metadata": {
    "id": "IKJADHAu6liM"
   },
   "outputs": [],
   "source": [
    "from sklearn.model_selection import train_test_split\n",
    "\n",
    "X=final_data.drop(['not.fully.paid'],axis=1)\n",
    "y=final_data['not.fully.paid']\n",
    "\n",
    "X_train, X_test, y_train, y_test = train_test_split(X, y, test_size=0.3, random_state = 101)"
   ]
  },
  {
   "cell_type": "code",
   "execution_count": 35,
   "metadata": {
    "id": "uIsdR95D7QcK"
   },
   "outputs": [],
   "source": [
    "from sklearn.preprocessing import MinMaxScaler\n",
    "\n",
    "scaler = MinMaxScaler()\n",
    "X_train = scaler.fit_transform(X_train)\n",
    "X_test = scaler.transform(X_test)"
   ]
  },
  {
   "cell_type": "code",
   "execution_count": 36,
   "metadata": {
    "colab": {
     "base_uri": "https://localhost:8080/",
     "height": 0
    },
    "id": "XL-JNouG5oed",
    "outputId": "eb350bc2-1e9c-40b4-dede-809a7d56ce1e"
   },
   "outputs": [
    {
     "name": "stdout",
     "output_type": "stream",
     "text": [
      "Epoch 1/200\n",
      "57/57 [==============================] - 4s 8ms/step - loss: 0.6881 - binary_accuracy: 0.5461 - val_loss: 0.6703 - val_binary_accuracy: 0.6138\n",
      "Epoch 2/200\n",
      "57/57 [==============================] - 0s 5ms/step - loss: 0.6737 - binary_accuracy: 0.5834 - val_loss: 0.6609 - val_binary_accuracy: 0.6227\n",
      "Epoch 3/200\n",
      "57/57 [==============================] - 0s 5ms/step - loss: 0.6663 - binary_accuracy: 0.5998 - val_loss: 0.6560 - val_binary_accuracy: 0.6194\n",
      "Epoch 4/200\n",
      "57/57 [==============================] - 0s 5ms/step - loss: 0.6627 - binary_accuracy: 0.5982 - val_loss: 0.6545 - val_binary_accuracy: 0.6186\n",
      "Epoch 5/200\n",
      "57/57 [==============================] - 0s 5ms/step - loss: 0.6601 - binary_accuracy: 0.6049 - val_loss: 0.6528 - val_binary_accuracy: 0.6198\n",
      "Epoch 6/200\n",
      "57/57 [==============================] - 0s 5ms/step - loss: 0.6604 - binary_accuracy: 0.6031 - val_loss: 0.6521 - val_binary_accuracy: 0.6207\n",
      "Epoch 7/200\n",
      "57/57 [==============================] - 0s 5ms/step - loss: 0.6574 - binary_accuracy: 0.6071 - val_loss: 0.6512 - val_binary_accuracy: 0.6275\n",
      "Epoch 8/200\n",
      "57/57 [==============================] - 0s 5ms/step - loss: 0.6558 - binary_accuracy: 0.6073 - val_loss: 0.6502 - val_binary_accuracy: 0.6256\n",
      "Epoch 9/200\n",
      "57/57 [==============================] - 0s 5ms/step - loss: 0.6550 - binary_accuracy: 0.6096 - val_loss: 0.6496 - val_binary_accuracy: 0.6246\n",
      "Epoch 10/200\n",
      "57/57 [==============================] - 0s 5ms/step - loss: 0.6542 - binary_accuracy: 0.6107 - val_loss: 0.6491 - val_binary_accuracy: 0.6190\n",
      "Epoch 11/200\n",
      "57/57 [==============================] - 0s 5ms/step - loss: 0.6498 - binary_accuracy: 0.6225 - val_loss: 0.6474 - val_binary_accuracy: 0.6250\n",
      "Epoch 12/200\n",
      "57/57 [==============================] - 0s 5ms/step - loss: 0.6505 - binary_accuracy: 0.6152 - val_loss: 0.6464 - val_binary_accuracy: 0.6294\n",
      "Epoch 13/200\n",
      "57/57 [==============================] - 0s 5ms/step - loss: 0.6479 - binary_accuracy: 0.6182 - val_loss: 0.6460 - val_binary_accuracy: 0.6283\n",
      "Epoch 14/200\n",
      "57/57 [==============================] - 0s 5ms/step - loss: 0.6508 - binary_accuracy: 0.6166 - val_loss: 0.6458 - val_binary_accuracy: 0.6252\n",
      "Epoch 15/200\n",
      "57/57 [==============================] - 0s 5ms/step - loss: 0.6469 - binary_accuracy: 0.6199 - val_loss: 0.6457 - val_binary_accuracy: 0.6198\n",
      "Epoch 16/200\n",
      "57/57 [==============================] - 0s 5ms/step - loss: 0.6461 - binary_accuracy: 0.6187 - val_loss: 0.6442 - val_binary_accuracy: 0.6290\n",
      "Epoch 17/200\n",
      "57/57 [==============================] - 0s 5ms/step - loss: 0.6474 - binary_accuracy: 0.6215 - val_loss: 0.6450 - val_binary_accuracy: 0.6178\n",
      "Epoch 18/200\n",
      "57/57 [==============================] - 0s 5ms/step - loss: 0.6454 - binary_accuracy: 0.6205 - val_loss: 0.6442 - val_binary_accuracy: 0.6221\n",
      "Epoch 19/200\n",
      "57/57 [==============================] - 0s 5ms/step - loss: 0.6455 - binary_accuracy: 0.6211 - val_loss: 0.6434 - val_binary_accuracy: 0.6201\n",
      "Epoch 20/200\n",
      "57/57 [==============================] - 0s 5ms/step - loss: 0.6431 - binary_accuracy: 0.6209 - val_loss: 0.6424 - val_binary_accuracy: 0.6217\n",
      "Epoch 21/200\n",
      "57/57 [==============================] - 0s 5ms/step - loss: 0.6433 - binary_accuracy: 0.6251 - val_loss: 0.6425 - val_binary_accuracy: 0.6215\n",
      "Epoch 22/200\n",
      "57/57 [==============================] - 0s 5ms/step - loss: 0.6449 - binary_accuracy: 0.6225 - val_loss: 0.6414 - val_binary_accuracy: 0.6219\n",
      "Epoch 23/200\n",
      "57/57 [==============================] - 0s 5ms/step - loss: 0.6414 - binary_accuracy: 0.6235 - val_loss: 0.6407 - val_binary_accuracy: 0.6252\n",
      "Epoch 24/200\n",
      "57/57 [==============================] - 0s 5ms/step - loss: 0.6426 - binary_accuracy: 0.6250 - val_loss: 0.6407 - val_binary_accuracy: 0.6219\n",
      "Epoch 25/200\n",
      "57/57 [==============================] - 0s 5ms/step - loss: 0.6413 - binary_accuracy: 0.6243 - val_loss: 0.6408 - val_binary_accuracy: 0.6252\n",
      "Epoch 26/200\n",
      "57/57 [==============================] - 0s 5ms/step - loss: 0.6403 - binary_accuracy: 0.6220 - val_loss: 0.6406 - val_binary_accuracy: 0.6242\n",
      "Epoch 27/200\n",
      "57/57 [==============================] - 0s 5ms/step - loss: 0.6405 - binary_accuracy: 0.6218 - val_loss: 0.6396 - val_binary_accuracy: 0.6242\n",
      "Epoch 28/200\n",
      "57/57 [==============================] - 0s 5ms/step - loss: 0.6410 - binary_accuracy: 0.6215 - val_loss: 0.6390 - val_binary_accuracy: 0.6306\n",
      "Epoch 29/200\n",
      "57/57 [==============================] - 0s 5ms/step - loss: 0.6392 - binary_accuracy: 0.6236 - val_loss: 0.6382 - val_binary_accuracy: 0.6261\n",
      "Epoch 30/200\n",
      "57/57 [==============================] - 0s 5ms/step - loss: 0.6391 - binary_accuracy: 0.6253 - val_loss: 0.6390 - val_binary_accuracy: 0.6263\n",
      "Epoch 31/200\n",
      "57/57 [==============================] - 0s 5ms/step - loss: 0.6382 - binary_accuracy: 0.6256 - val_loss: 0.6398 - val_binary_accuracy: 0.6221\n",
      "Epoch 32/200\n",
      "57/57 [==============================] - 0s 5ms/step - loss: 0.6401 - binary_accuracy: 0.6251 - val_loss: 0.6381 - val_binary_accuracy: 0.6283\n",
      "Epoch 33/200\n",
      "57/57 [==============================] - 0s 5ms/step - loss: 0.6377 - binary_accuracy: 0.6233 - val_loss: 0.6377 - val_binary_accuracy: 0.6302\n",
      "Epoch 34/200\n",
      "57/57 [==============================] - 0s 5ms/step - loss: 0.6373 - binary_accuracy: 0.6239 - val_loss: 0.6384 - val_binary_accuracy: 0.6279\n",
      "Epoch 35/200\n",
      "57/57 [==============================] - 0s 5ms/step - loss: 0.6380 - binary_accuracy: 0.6267 - val_loss: 0.6373 - val_binary_accuracy: 0.6298\n",
      "Epoch 36/200\n",
      "57/57 [==============================] - 0s 5ms/step - loss: 0.6367 - binary_accuracy: 0.6228 - val_loss: 0.6370 - val_binary_accuracy: 0.6271\n",
      "Epoch 37/200\n",
      "57/57 [==============================] - 0s 5ms/step - loss: 0.6344 - binary_accuracy: 0.6319 - val_loss: 0.6369 - val_binary_accuracy: 0.6314\n",
      "Epoch 38/200\n",
      "57/57 [==============================] - 0s 5ms/step - loss: 0.6361 - binary_accuracy: 0.6300 - val_loss: 0.6397 - val_binary_accuracy: 0.6273\n",
      "Epoch 39/200\n",
      "57/57 [==============================] - 0s 5ms/step - loss: 0.6356 - binary_accuracy: 0.6279 - val_loss: 0.6364 - val_binary_accuracy: 0.6300\n",
      "Epoch 40/200\n",
      "57/57 [==============================] - 0s 8ms/step - loss: 0.6359 - binary_accuracy: 0.6243 - val_loss: 0.6359 - val_binary_accuracy: 0.6296\n",
      "Epoch 41/200\n",
      "57/57 [==============================] - 1s 12ms/step - loss: 0.6349 - binary_accuracy: 0.6300 - val_loss: 0.6366 - val_binary_accuracy: 0.6321\n",
      "Epoch 42/200\n",
      "57/57 [==============================] - 1s 10ms/step - loss: 0.6348 - binary_accuracy: 0.6303 - val_loss: 0.6363 - val_binary_accuracy: 0.6323\n",
      "Epoch 43/200\n",
      "57/57 [==============================] - 0s 6ms/step - loss: 0.6343 - binary_accuracy: 0.6339 - val_loss: 0.6359 - val_binary_accuracy: 0.6352\n",
      "Epoch 44/200\n",
      "57/57 [==============================] - 0s 5ms/step - loss: 0.6349 - binary_accuracy: 0.6299 - val_loss: 0.6371 - val_binary_accuracy: 0.6283\n",
      "Epoch 45/200\n",
      "57/57 [==============================] - 0s 5ms/step - loss: 0.6348 - binary_accuracy: 0.6286 - val_loss: 0.6354 - val_binary_accuracy: 0.6350\n",
      "Epoch 46/200\n",
      "57/57 [==============================] - 0s 5ms/step - loss: 0.6330 - binary_accuracy: 0.6287 - val_loss: 0.6352 - val_binary_accuracy: 0.6346\n",
      "Epoch 47/200\n",
      "57/57 [==============================] - 0s 5ms/step - loss: 0.6355 - binary_accuracy: 0.6274 - val_loss: 0.6346 - val_binary_accuracy: 0.6279\n",
      "Epoch 48/200\n",
      "57/57 [==============================] - 0s 5ms/step - loss: 0.6335 - binary_accuracy: 0.6307 - val_loss: 0.6345 - val_binary_accuracy: 0.6387\n",
      "Epoch 49/200\n",
      "57/57 [==============================] - 0s 5ms/step - loss: 0.6344 - binary_accuracy: 0.6309 - val_loss: 0.6346 - val_binary_accuracy: 0.6273\n",
      "Epoch 50/200\n",
      "57/57 [==============================] - 0s 5ms/step - loss: 0.6319 - binary_accuracy: 0.6308 - val_loss: 0.6343 - val_binary_accuracy: 0.6277\n",
      "Epoch 51/200\n",
      "57/57 [==============================] - 0s 5ms/step - loss: 0.6327 - binary_accuracy: 0.6309 - val_loss: 0.6343 - val_binary_accuracy: 0.6321\n",
      "Epoch 52/200\n",
      "57/57 [==============================] - 0s 5ms/step - loss: 0.6350 - binary_accuracy: 0.6291 - val_loss: 0.6350 - val_binary_accuracy: 0.6356\n",
      "Epoch 53/200\n",
      "57/57 [==============================] - 0s 5ms/step - loss: 0.6334 - binary_accuracy: 0.6272 - val_loss: 0.6344 - val_binary_accuracy: 0.6354\n",
      "Epoch 54/200\n",
      "57/57 [==============================] - 0s 5ms/step - loss: 0.6338 - binary_accuracy: 0.6300 - val_loss: 0.6347 - val_binary_accuracy: 0.6341\n",
      "Epoch 55/200\n",
      "57/57 [==============================] - 0s 5ms/step - loss: 0.6317 - binary_accuracy: 0.6328 - val_loss: 0.6338 - val_binary_accuracy: 0.6321\n",
      "Epoch 56/200\n",
      "57/57 [==============================] - 0s 5ms/step - loss: 0.6321 - binary_accuracy: 0.6347 - val_loss: 0.6344 - val_binary_accuracy: 0.6366\n",
      "Epoch 57/200\n",
      "57/57 [==============================] - 0s 6ms/step - loss: 0.6319 - binary_accuracy: 0.6304 - val_loss: 0.6331 - val_binary_accuracy: 0.6296\n",
      "Epoch 58/200\n",
      "57/57 [==============================] - 0s 6ms/step - loss: 0.6321 - binary_accuracy: 0.6347 - val_loss: 0.6348 - val_binary_accuracy: 0.6356\n",
      "Epoch 59/200\n",
      "57/57 [==============================] - 0s 5ms/step - loss: 0.6324 - binary_accuracy: 0.6312 - val_loss: 0.6331 - val_binary_accuracy: 0.6383\n",
      "Epoch 60/200\n",
      "57/57 [==============================] - 0s 5ms/step - loss: 0.6321 - binary_accuracy: 0.6324 - val_loss: 0.6326 - val_binary_accuracy: 0.6341\n",
      "Epoch 61/200\n",
      "57/57 [==============================] - 0s 5ms/step - loss: 0.6330 - binary_accuracy: 0.6338 - val_loss: 0.6337 - val_binary_accuracy: 0.6385\n",
      "Epoch 62/200\n",
      "57/57 [==============================] - 0s 5ms/step - loss: 0.6318 - binary_accuracy: 0.6303 - val_loss: 0.6327 - val_binary_accuracy: 0.6354\n",
      "Epoch 63/200\n",
      "57/57 [==============================] - 0s 5ms/step - loss: 0.6294 - binary_accuracy: 0.6343 - val_loss: 0.6334 - val_binary_accuracy: 0.6360\n",
      "Epoch 64/200\n",
      "57/57 [==============================] - 0s 5ms/step - loss: 0.6326 - binary_accuracy: 0.6308 - val_loss: 0.6330 - val_binary_accuracy: 0.6381\n",
      "Epoch 65/200\n",
      "57/57 [==============================] - 0s 5ms/step - loss: 0.6324 - binary_accuracy: 0.6325 - val_loss: 0.6335 - val_binary_accuracy: 0.6404\n",
      "Epoch 66/200\n",
      "57/57 [==============================] - 0s 5ms/step - loss: 0.6312 - binary_accuracy: 0.6318 - val_loss: 0.6323 - val_binary_accuracy: 0.6358\n",
      "Epoch 67/200\n",
      "57/57 [==============================] - 0s 5ms/step - loss: 0.6297 - binary_accuracy: 0.6373 - val_loss: 0.6323 - val_binary_accuracy: 0.6395\n",
      "Epoch 68/200\n",
      "57/57 [==============================] - 0s 5ms/step - loss: 0.6300 - binary_accuracy: 0.6359 - val_loss: 0.6317 - val_binary_accuracy: 0.6383\n",
      "Epoch 69/200\n",
      "57/57 [==============================] - 0s 5ms/step - loss: 0.6291 - binary_accuracy: 0.6340 - val_loss: 0.6319 - val_binary_accuracy: 0.6352\n",
      "Epoch 70/200\n",
      "57/57 [==============================] - 0s 7ms/step - loss: 0.6305 - binary_accuracy: 0.6316 - val_loss: 0.6318 - val_binary_accuracy: 0.6368\n",
      "Epoch 71/200\n",
      "57/57 [==============================] - 0s 7ms/step - loss: 0.6315 - binary_accuracy: 0.6347 - val_loss: 0.6320 - val_binary_accuracy: 0.6368\n",
      "Epoch 72/200\n",
      "57/57 [==============================] - 0s 8ms/step - loss: 0.6304 - binary_accuracy: 0.6351 - val_loss: 0.6328 - val_binary_accuracy: 0.6321\n",
      "Epoch 73/200\n",
      "57/57 [==============================] - 0s 7ms/step - loss: 0.6286 - binary_accuracy: 0.6392 - val_loss: 0.6313 - val_binary_accuracy: 0.6360\n",
      "Epoch 74/200\n",
      "57/57 [==============================] - 0s 5ms/step - loss: 0.6303 - binary_accuracy: 0.6389 - val_loss: 0.6315 - val_binary_accuracy: 0.6348\n",
      "Epoch 75/200\n",
      "57/57 [==============================] - 1s 12ms/step - loss: 0.6293 - binary_accuracy: 0.6386 - val_loss: 0.6312 - val_binary_accuracy: 0.6381\n",
      "Epoch 76/200\n",
      "57/57 [==============================] - 0s 7ms/step - loss: 0.6293 - binary_accuracy: 0.6374 - val_loss: 0.6310 - val_binary_accuracy: 0.6368\n",
      "Epoch 77/200\n",
      "57/57 [==============================] - 0s 5ms/step - loss: 0.6277 - binary_accuracy: 0.6362 - val_loss: 0.6310 - val_binary_accuracy: 0.6364\n",
      "Epoch 78/200\n",
      "57/57 [==============================] - 0s 5ms/step - loss: 0.6273 - binary_accuracy: 0.6395 - val_loss: 0.6305 - val_binary_accuracy: 0.6393\n",
      "Epoch 79/200\n",
      "57/57 [==============================] - 0s 5ms/step - loss: 0.6283 - binary_accuracy: 0.6370 - val_loss: 0.6305 - val_binary_accuracy: 0.6408\n",
      "Epoch 80/200\n",
      "57/57 [==============================] - 0s 5ms/step - loss: 0.6289 - binary_accuracy: 0.6399 - val_loss: 0.6315 - val_binary_accuracy: 0.6364\n",
      "Epoch 81/200\n",
      "57/57 [==============================] - 0s 5ms/step - loss: 0.6288 - binary_accuracy: 0.6401 - val_loss: 0.6306 - val_binary_accuracy: 0.6401\n",
      "Epoch 82/200\n",
      "57/57 [==============================] - 0s 5ms/step - loss: 0.6280 - binary_accuracy: 0.6401 - val_loss: 0.6308 - val_binary_accuracy: 0.6397\n",
      "Epoch 83/200\n",
      "57/57 [==============================] - 0s 5ms/step - loss: 0.6276 - binary_accuracy: 0.6380 - val_loss: 0.6303 - val_binary_accuracy: 0.6385\n",
      "Epoch 84/200\n",
      "57/57 [==============================] - 0s 6ms/step - loss: 0.6275 - binary_accuracy: 0.6390 - val_loss: 0.6300 - val_binary_accuracy: 0.6393\n",
      "Epoch 85/200\n",
      "57/57 [==============================] - 0s 5ms/step - loss: 0.6265 - binary_accuracy: 0.6399 - val_loss: 0.6301 - val_binary_accuracy: 0.6389\n",
      "Epoch 86/200\n",
      "57/57 [==============================] - 0s 5ms/step - loss: 0.6263 - binary_accuracy: 0.6431 - val_loss: 0.6298 - val_binary_accuracy: 0.6418\n",
      "Epoch 87/200\n",
      "57/57 [==============================] - 0s 5ms/step - loss: 0.6276 - binary_accuracy: 0.6379 - val_loss: 0.6293 - val_binary_accuracy: 0.6418\n",
      "Epoch 88/200\n",
      "57/57 [==============================] - 0s 5ms/step - loss: 0.6265 - binary_accuracy: 0.6432 - val_loss: 0.6296 - val_binary_accuracy: 0.6366\n",
      "Epoch 89/200\n",
      "57/57 [==============================] - 0s 5ms/step - loss: 0.6284 - binary_accuracy: 0.6379 - val_loss: 0.6299 - val_binary_accuracy: 0.6362\n",
      "Epoch 90/200\n",
      "57/57 [==============================] - 0s 7ms/step - loss: 0.6261 - binary_accuracy: 0.6371 - val_loss: 0.6301 - val_binary_accuracy: 0.6383\n",
      "Epoch 91/200\n",
      "57/57 [==============================] - 0s 5ms/step - loss: 0.6273 - binary_accuracy: 0.6419 - val_loss: 0.6292 - val_binary_accuracy: 0.6387\n",
      "Epoch 92/200\n",
      "57/57 [==============================] - 0s 5ms/step - loss: 0.6274 - binary_accuracy: 0.6437 - val_loss: 0.6292 - val_binary_accuracy: 0.6370\n",
      "Epoch 93/200\n",
      "57/57 [==============================] - 0s 5ms/step - loss: 0.6243 - binary_accuracy: 0.6405 - val_loss: 0.6290 - val_binary_accuracy: 0.6389\n",
      "Epoch 94/200\n",
      "57/57 [==============================] - 0s 5ms/step - loss: 0.6276 - binary_accuracy: 0.6417 - val_loss: 0.6292 - val_binary_accuracy: 0.6383\n",
      "Epoch 95/200\n",
      "57/57 [==============================] - 0s 5ms/step - loss: 0.6275 - binary_accuracy: 0.6400 - val_loss: 0.6289 - val_binary_accuracy: 0.6414\n",
      "Epoch 96/200\n",
      "57/57 [==============================] - 0s 5ms/step - loss: 0.6252 - binary_accuracy: 0.6396 - val_loss: 0.6285 - val_binary_accuracy: 0.6412\n",
      "Epoch 97/200\n",
      "57/57 [==============================] - 0s 6ms/step - loss: 0.6241 - binary_accuracy: 0.6451 - val_loss: 0.6292 - val_binary_accuracy: 0.6348\n",
      "Epoch 98/200\n",
      "57/57 [==============================] - 0s 5ms/step - loss: 0.6261 - binary_accuracy: 0.6392 - val_loss: 0.6285 - val_binary_accuracy: 0.6377\n",
      "Epoch 99/200\n",
      "57/57 [==============================] - 0s 5ms/step - loss: 0.6252 - binary_accuracy: 0.6440 - val_loss: 0.6282 - val_binary_accuracy: 0.6412\n",
      "Epoch 100/200\n",
      "57/57 [==============================] - 0s 5ms/step - loss: 0.6267 - binary_accuracy: 0.6451 - val_loss: 0.6284 - val_binary_accuracy: 0.6399\n",
      "Epoch 101/200\n",
      "57/57 [==============================] - 0s 5ms/step - loss: 0.6234 - binary_accuracy: 0.6422 - val_loss: 0.6288 - val_binary_accuracy: 0.6362\n",
      "Epoch 102/200\n",
      "57/57 [==============================] - 0s 5ms/step - loss: 0.6252 - binary_accuracy: 0.6446 - val_loss: 0.6287 - val_binary_accuracy: 0.6372\n",
      "Epoch 103/200\n",
      "57/57 [==============================] - 0s 5ms/step - loss: 0.6255 - binary_accuracy: 0.6438 - val_loss: 0.6281 - val_binary_accuracy: 0.6408\n",
      "Epoch 104/200\n",
      "57/57 [==============================] - 0s 5ms/step - loss: 0.6259 - binary_accuracy: 0.6405 - val_loss: 0.6277 - val_binary_accuracy: 0.6387\n",
      "Epoch 105/200\n",
      "57/57 [==============================] - 0s 5ms/step - loss: 0.6237 - binary_accuracy: 0.6445 - val_loss: 0.6282 - val_binary_accuracy: 0.6391\n",
      "Epoch 106/200\n",
      "57/57 [==============================] - 0s 5ms/step - loss: 0.6253 - binary_accuracy: 0.6411 - val_loss: 0.6289 - val_binary_accuracy: 0.6377\n",
      "Epoch 107/200\n",
      "57/57 [==============================] - 0s 6ms/step - loss: 0.6271 - binary_accuracy: 0.6437 - val_loss: 0.6275 - val_binary_accuracy: 0.6414\n",
      "Epoch 108/200\n",
      "57/57 [==============================] - 0s 5ms/step - loss: 0.6239 - binary_accuracy: 0.6453 - val_loss: 0.6278 - val_binary_accuracy: 0.6404\n",
      "Epoch 109/200\n",
      "57/57 [==============================] - 0s 5ms/step - loss: 0.6255 - binary_accuracy: 0.6417 - val_loss: 0.6276 - val_binary_accuracy: 0.6389\n",
      "Epoch 110/200\n",
      "57/57 [==============================] - 0s 5ms/step - loss: 0.6243 - binary_accuracy: 0.6454 - val_loss: 0.6270 - val_binary_accuracy: 0.6435\n",
      "Epoch 111/200\n",
      "57/57 [==============================] - 0s 5ms/step - loss: 0.6226 - binary_accuracy: 0.6426 - val_loss: 0.6272 - val_binary_accuracy: 0.6433\n",
      "Epoch 112/200\n",
      "57/57 [==============================] - 0s 5ms/step - loss: 0.6215 - binary_accuracy: 0.6515 - val_loss: 0.6270 - val_binary_accuracy: 0.6408\n",
      "Epoch 113/200\n",
      "57/57 [==============================] - 0s 7ms/step - loss: 0.6233 - binary_accuracy: 0.6433 - val_loss: 0.6269 - val_binary_accuracy: 0.6379\n",
      "Epoch 114/200\n",
      "57/57 [==============================] - 0s 5ms/step - loss: 0.6242 - binary_accuracy: 0.6410 - val_loss: 0.6270 - val_binary_accuracy: 0.6426\n",
      "Epoch 115/200\n",
      "57/57 [==============================] - 0s 5ms/step - loss: 0.6232 - binary_accuracy: 0.6425 - val_loss: 0.6266 - val_binary_accuracy: 0.6422\n",
      "Epoch 116/200\n",
      "57/57 [==============================] - 0s 5ms/step - loss: 0.6238 - binary_accuracy: 0.6453 - val_loss: 0.6267 - val_binary_accuracy: 0.6447\n",
      "Epoch 117/200\n",
      "57/57 [==============================] - 0s 5ms/step - loss: 0.6224 - binary_accuracy: 0.6477 - val_loss: 0.6267 - val_binary_accuracy: 0.6395\n",
      "Epoch 118/200\n",
      "57/57 [==============================] - 0s 5ms/step - loss: 0.6215 - binary_accuracy: 0.6410 - val_loss: 0.6266 - val_binary_accuracy: 0.6416\n",
      "Epoch 119/200\n",
      "57/57 [==============================] - 0s 5ms/step - loss: 0.6235 - binary_accuracy: 0.6425 - val_loss: 0.6269 - val_binary_accuracy: 0.6387\n",
      "Epoch 120/200\n",
      "57/57 [==============================] - 0s 5ms/step - loss: 0.6243 - binary_accuracy: 0.6418 - val_loss: 0.6265 - val_binary_accuracy: 0.6416\n",
      "Epoch 121/200\n",
      "57/57 [==============================] - 0s 5ms/step - loss: 0.6231 - binary_accuracy: 0.6393 - val_loss: 0.6264 - val_binary_accuracy: 0.6377\n",
      "Epoch 122/200\n",
      "57/57 [==============================] - 0s 7ms/step - loss: 0.6218 - binary_accuracy: 0.6467 - val_loss: 0.6260 - val_binary_accuracy: 0.6406\n",
      "Epoch 123/200\n",
      "57/57 [==============================] - 0s 6ms/step - loss: 0.6200 - binary_accuracy: 0.6460 - val_loss: 0.6255 - val_binary_accuracy: 0.6424\n",
      "Epoch 124/200\n",
      "57/57 [==============================] - 0s 5ms/step - loss: 0.6212 - binary_accuracy: 0.6433 - val_loss: 0.6262 - val_binary_accuracy: 0.6430\n",
      "Epoch 125/200\n",
      "57/57 [==============================] - 0s 6ms/step - loss: 0.6208 - binary_accuracy: 0.6452 - val_loss: 0.6265 - val_binary_accuracy: 0.6385\n",
      "Epoch 126/200\n",
      "57/57 [==============================] - 0s 5ms/step - loss: 0.6221 - binary_accuracy: 0.6446 - val_loss: 0.6258 - val_binary_accuracy: 0.6428\n",
      "Epoch 127/200\n",
      "57/57 [==============================] - 0s 5ms/step - loss: 0.6218 - binary_accuracy: 0.6437 - val_loss: 0.6257 - val_binary_accuracy: 0.6435\n",
      "Epoch 128/200\n",
      "57/57 [==============================] - 0s 5ms/step - loss: 0.6237 - binary_accuracy: 0.6457 - val_loss: 0.6265 - val_binary_accuracy: 0.6424\n",
      "Epoch 129/200\n",
      "57/57 [==============================] - 0s 5ms/step - loss: 0.6234 - binary_accuracy: 0.6409 - val_loss: 0.6261 - val_binary_accuracy: 0.6416\n",
      "Epoch 130/200\n",
      "57/57 [==============================] - 0s 5ms/step - loss: 0.6227 - binary_accuracy: 0.6458 - val_loss: 0.6255 - val_binary_accuracy: 0.6426\n",
      "Epoch 131/200\n",
      "57/57 [==============================] - 0s 5ms/step - loss: 0.6205 - binary_accuracy: 0.6453 - val_loss: 0.6256 - val_binary_accuracy: 0.6455\n",
      "Epoch 132/200\n",
      "57/57 [==============================] - 0s 5ms/step - loss: 0.6221 - binary_accuracy: 0.6485 - val_loss: 0.6254 - val_binary_accuracy: 0.6426\n",
      "Epoch 133/200\n",
      "57/57 [==============================] - 0s 5ms/step - loss: 0.6208 - binary_accuracy: 0.6445 - val_loss: 0.6250 - val_binary_accuracy: 0.6451\n",
      "Epoch 134/200\n",
      "57/57 [==============================] - 0s 5ms/step - loss: 0.6210 - binary_accuracy: 0.6538 - val_loss: 0.6250 - val_binary_accuracy: 0.6412\n",
      "Epoch 135/200\n",
      "57/57 [==============================] - 0s 5ms/step - loss: 0.6210 - binary_accuracy: 0.6430 - val_loss: 0.6249 - val_binary_accuracy: 0.6430\n",
      "Epoch 136/200\n",
      "57/57 [==============================] - 0s 5ms/step - loss: 0.6181 - binary_accuracy: 0.6478 - val_loss: 0.6243 - val_binary_accuracy: 0.6482\n",
      "Epoch 137/200\n",
      "57/57 [==============================] - 0s 5ms/step - loss: 0.6222 - binary_accuracy: 0.6457 - val_loss: 0.6242 - val_binary_accuracy: 0.6447\n",
      "Epoch 138/200\n",
      "57/57 [==============================] - 0s 5ms/step - loss: 0.6184 - binary_accuracy: 0.6480 - val_loss: 0.6241 - val_binary_accuracy: 0.6449\n",
      "Epoch 139/200\n",
      "57/57 [==============================] - 0s 5ms/step - loss: 0.6210 - binary_accuracy: 0.6466 - val_loss: 0.6242 - val_binary_accuracy: 0.6451\n",
      "Epoch 140/200\n",
      "57/57 [==============================] - 0s 5ms/step - loss: 0.6196 - binary_accuracy: 0.6493 - val_loss: 0.6249 - val_binary_accuracy: 0.6449\n",
      "Epoch 141/200\n",
      "57/57 [==============================] - 0s 5ms/step - loss: 0.6226 - binary_accuracy: 0.6465 - val_loss: 0.6246 - val_binary_accuracy: 0.6474\n",
      "Epoch 142/200\n",
      "57/57 [==============================] - 0s 5ms/step - loss: 0.6187 - binary_accuracy: 0.6455 - val_loss: 0.6249 - val_binary_accuracy: 0.6451\n",
      "Epoch 143/200\n",
      "57/57 [==============================] - 0s 5ms/step - loss: 0.6202 - binary_accuracy: 0.6458 - val_loss: 0.6251 - val_binary_accuracy: 0.6375\n",
      "Epoch 144/200\n",
      "57/57 [==============================] - 0s 5ms/step - loss: 0.6211 - binary_accuracy: 0.6455 - val_loss: 0.6238 - val_binary_accuracy: 0.6464\n",
      "Epoch 145/200\n",
      "57/57 [==============================] - 0s 5ms/step - loss: 0.6194 - binary_accuracy: 0.6479 - val_loss: 0.6240 - val_binary_accuracy: 0.6441\n",
      "Epoch 146/200\n",
      "57/57 [==============================] - 0s 5ms/step - loss: 0.6195 - binary_accuracy: 0.6446 - val_loss: 0.6236 - val_binary_accuracy: 0.6466\n",
      "Epoch 147/200\n",
      "57/57 [==============================] - 0s 5ms/step - loss: 0.6195 - binary_accuracy: 0.6440 - val_loss: 0.6234 - val_binary_accuracy: 0.6453\n",
      "Epoch 148/200\n",
      "57/57 [==============================] - 0s 5ms/step - loss: 0.6173 - binary_accuracy: 0.6490 - val_loss: 0.6240 - val_binary_accuracy: 0.6433\n",
      "Epoch 149/200\n",
      "57/57 [==============================] - 0s 5ms/step - loss: 0.6196 - binary_accuracy: 0.6501 - val_loss: 0.6238 - val_binary_accuracy: 0.6422\n",
      "Epoch 150/200\n",
      "57/57 [==============================] - 0s 5ms/step - loss: 0.6187 - binary_accuracy: 0.6488 - val_loss: 0.6233 - val_binary_accuracy: 0.6443\n",
      "Epoch 151/200\n",
      "57/57 [==============================] - 0s 5ms/step - loss: 0.6209 - binary_accuracy: 0.6481 - val_loss: 0.6235 - val_binary_accuracy: 0.6451\n",
      "Epoch 152/200\n",
      "57/57 [==============================] - 0s 5ms/step - loss: 0.6197 - binary_accuracy: 0.6507 - val_loss: 0.6239 - val_binary_accuracy: 0.6447\n",
      "Epoch 153/200\n",
      "57/57 [==============================] - 0s 6ms/step - loss: 0.6211 - binary_accuracy: 0.6493 - val_loss: 0.6234 - val_binary_accuracy: 0.6468\n",
      "Epoch 154/200\n",
      "57/57 [==============================] - 0s 5ms/step - loss: 0.6193 - binary_accuracy: 0.6494 - val_loss: 0.6232 - val_binary_accuracy: 0.6447\n",
      "Epoch 155/200\n",
      "57/57 [==============================] - 0s 5ms/step - loss: 0.6203 - binary_accuracy: 0.6492 - val_loss: 0.6232 - val_binary_accuracy: 0.6459\n",
      "Epoch 156/200\n",
      "57/57 [==============================] - 0s 6ms/step - loss: 0.6185 - binary_accuracy: 0.6489 - val_loss: 0.6236 - val_binary_accuracy: 0.6399\n",
      "Epoch 157/200\n",
      "57/57 [==============================] - 0s 5ms/step - loss: 0.6198 - binary_accuracy: 0.6489 - val_loss: 0.6237 - val_binary_accuracy: 0.6418\n",
      "Epoch 158/200\n",
      "57/57 [==============================] - 0s 5ms/step - loss: 0.6187 - binary_accuracy: 0.6473 - val_loss: 0.6239 - val_binary_accuracy: 0.6437\n",
      "Epoch 159/200\n",
      "57/57 [==============================] - 0s 5ms/step - loss: 0.6207 - binary_accuracy: 0.6489 - val_loss: 0.6238 - val_binary_accuracy: 0.6412\n",
      "Epoch 160/200\n",
      "57/57 [==============================] - 0s 5ms/step - loss: 0.6173 - binary_accuracy: 0.6505 - val_loss: 0.6228 - val_binary_accuracy: 0.6478\n",
      "Epoch 161/200\n",
      "57/57 [==============================] - 0s 5ms/step - loss: 0.6195 - binary_accuracy: 0.6444 - val_loss: 0.6230 - val_binary_accuracy: 0.6474\n",
      "Epoch 162/200\n",
      "57/57 [==============================] - 0s 5ms/step - loss: 0.6202 - binary_accuracy: 0.6459 - val_loss: 0.6235 - val_binary_accuracy: 0.6412\n",
      "Epoch 163/200\n",
      "57/57 [==============================] - 0s 5ms/step - loss: 0.6186 - binary_accuracy: 0.6493 - val_loss: 0.6232 - val_binary_accuracy: 0.6457\n",
      "Epoch 164/200\n",
      "57/57 [==============================] - 0s 5ms/step - loss: 0.6214 - binary_accuracy: 0.6456 - val_loss: 0.6226 - val_binary_accuracy: 0.6480\n",
      "Epoch 165/200\n",
      "57/57 [==============================] - 0s 5ms/step - loss: 0.6175 - binary_accuracy: 0.6507 - val_loss: 0.6228 - val_binary_accuracy: 0.6453\n",
      "Epoch 166/200\n",
      "57/57 [==============================] - 0s 5ms/step - loss: 0.6192 - binary_accuracy: 0.6476 - val_loss: 0.6231 - val_binary_accuracy: 0.6445\n",
      "Epoch 167/200\n",
      "57/57 [==============================] - 0s 5ms/step - loss: 0.6169 - binary_accuracy: 0.6520 - val_loss: 0.6232 - val_binary_accuracy: 0.6416\n",
      "Epoch 168/200\n",
      "57/57 [==============================] - 0s 5ms/step - loss: 0.6159 - binary_accuracy: 0.6492 - val_loss: 0.6229 - val_binary_accuracy: 0.6424\n",
      "Epoch 169/200\n",
      "57/57 [==============================] - 0s 5ms/step - loss: 0.6168 - binary_accuracy: 0.6513 - val_loss: 0.6223 - val_binary_accuracy: 0.6474\n",
      "Epoch 170/200\n",
      "57/57 [==============================] - 0s 5ms/step - loss: 0.6189 - binary_accuracy: 0.6511 - val_loss: 0.6235 - val_binary_accuracy: 0.6472\n",
      "Epoch 171/200\n",
      "57/57 [==============================] - 0s 5ms/step - loss: 0.6200 - binary_accuracy: 0.6489 - val_loss: 0.6225 - val_binary_accuracy: 0.6455\n",
      "Epoch 172/200\n",
      "57/57 [==============================] - 0s 6ms/step - loss: 0.6180 - binary_accuracy: 0.6511 - val_loss: 0.6225 - val_binary_accuracy: 0.6414\n",
      "Epoch 173/200\n",
      "57/57 [==============================] - 0s 5ms/step - loss: 0.6188 - binary_accuracy: 0.6492 - val_loss: 0.6221 - val_binary_accuracy: 0.6426\n",
      "Epoch 174/200\n",
      "57/57 [==============================] - 0s 5ms/step - loss: 0.6179 - binary_accuracy: 0.6489 - val_loss: 0.6218 - val_binary_accuracy: 0.6501\n",
      "Epoch 175/200\n",
      "57/57 [==============================] - 0s 6ms/step - loss: 0.6190 - binary_accuracy: 0.6496 - val_loss: 0.6224 - val_binary_accuracy: 0.6462\n",
      "Epoch 176/200\n",
      "57/57 [==============================] - 0s 5ms/step - loss: 0.6195 - binary_accuracy: 0.6482 - val_loss: 0.6223 - val_binary_accuracy: 0.6459\n",
      "Epoch 177/200\n",
      "57/57 [==============================] - 0s 5ms/step - loss: 0.6194 - binary_accuracy: 0.6491 - val_loss: 0.6224 - val_binary_accuracy: 0.6491\n",
      "Epoch 178/200\n",
      "57/57 [==============================] - 0s 5ms/step - loss: 0.6195 - binary_accuracy: 0.6523 - val_loss: 0.6223 - val_binary_accuracy: 0.6484\n",
      "Epoch 179/200\n",
      "57/57 [==============================] - 0s 5ms/step - loss: 0.6185 - binary_accuracy: 0.6486 - val_loss: 0.6220 - val_binary_accuracy: 0.6505\n",
      "Epoch 180/200\n",
      "57/57 [==============================] - 0s 5ms/step - loss: 0.6213 - binary_accuracy: 0.6474 - val_loss: 0.6221 - val_binary_accuracy: 0.6484\n",
      "Epoch 181/200\n",
      "57/57 [==============================] - 0s 5ms/step - loss: 0.6169 - binary_accuracy: 0.6543 - val_loss: 0.6218 - val_binary_accuracy: 0.6464\n",
      "Epoch 182/200\n",
      "57/57 [==============================] - 0s 6ms/step - loss: 0.6174 - binary_accuracy: 0.6478 - val_loss: 0.6218 - val_binary_accuracy: 0.6468\n",
      "Epoch 183/200\n",
      "57/57 [==============================] - 0s 5ms/step - loss: 0.6169 - binary_accuracy: 0.6530 - val_loss: 0.6221 - val_binary_accuracy: 0.6480\n",
      "Epoch 184/200\n",
      "57/57 [==============================] - 0s 5ms/step - loss: 0.6145 - binary_accuracy: 0.6558 - val_loss: 0.6218 - val_binary_accuracy: 0.6478\n",
      "Epoch 185/200\n",
      "57/57 [==============================] - 0s 6ms/step - loss: 0.6169 - binary_accuracy: 0.6507 - val_loss: 0.6218 - val_binary_accuracy: 0.6453\n",
      "Epoch 186/200\n",
      "57/57 [==============================] - 0s 5ms/step - loss: 0.6154 - binary_accuracy: 0.6515 - val_loss: 0.6220 - val_binary_accuracy: 0.6443\n",
      "Epoch 187/200\n",
      "57/57 [==============================] - 0s 6ms/step - loss: 0.6174 - binary_accuracy: 0.6488 - val_loss: 0.6218 - val_binary_accuracy: 0.6472\n",
      "Epoch 188/200\n",
      "57/57 [==============================] - 0s 5ms/step - loss: 0.6159 - binary_accuracy: 0.6480 - val_loss: 0.6227 - val_binary_accuracy: 0.6424\n",
      "Epoch 189/200\n",
      "57/57 [==============================] - 0s 5ms/step - loss: 0.6177 - binary_accuracy: 0.6457 - val_loss: 0.6219 - val_binary_accuracy: 0.6451\n",
      "Epoch 190/200\n",
      "57/57 [==============================] - 0s 5ms/step - loss: 0.6181 - binary_accuracy: 0.6499 - val_loss: 0.6221 - val_binary_accuracy: 0.6472\n",
      "Epoch 191/200\n",
      "57/57 [==============================] - 0s 5ms/step - loss: 0.6171 - binary_accuracy: 0.6556 - val_loss: 0.6220 - val_binary_accuracy: 0.6474\n",
      "Epoch 192/200\n",
      "57/57 [==============================] - 0s 5ms/step - loss: 0.6151 - binary_accuracy: 0.6555 - val_loss: 0.6216 - val_binary_accuracy: 0.6505\n",
      "Epoch 193/200\n",
      "57/57 [==============================] - 0s 5ms/step - loss: 0.6170 - binary_accuracy: 0.6484 - val_loss: 0.6216 - val_binary_accuracy: 0.6455\n",
      "Epoch 194/200\n",
      "57/57 [==============================] - 0s 5ms/step - loss: 0.6137 - binary_accuracy: 0.6536 - val_loss: 0.6216 - val_binary_accuracy: 0.6489\n",
      "Epoch 195/200\n",
      "57/57 [==============================] - 0s 6ms/step - loss: 0.6177 - binary_accuracy: 0.6536 - val_loss: 0.6217 - val_binary_accuracy: 0.6470\n",
      "Epoch 196/200\n",
      "57/57 [==============================] - 0s 5ms/step - loss: 0.6184 - binary_accuracy: 0.6502 - val_loss: 0.6218 - val_binary_accuracy: 0.6459\n",
      "Epoch 197/200\n",
      "57/57 [==============================] - 0s 5ms/step - loss: 0.6185 - binary_accuracy: 0.6473 - val_loss: 0.6221 - val_binary_accuracy: 0.6449\n",
      "Epoch 198/200\n",
      "57/57 [==============================] - 0s 5ms/step - loss: 0.6192 - binary_accuracy: 0.6490 - val_loss: 0.6213 - val_binary_accuracy: 0.6491\n",
      "Epoch 199/200\n",
      "57/57 [==============================] - 0s 5ms/step - loss: 0.6155 - binary_accuracy: 0.6507 - val_loss: 0.6217 - val_binary_accuracy: 0.6453\n",
      "Epoch 200/200\n",
      "57/57 [==============================] - 0s 5ms/step - loss: 0.6153 - binary_accuracy: 0.6559 - val_loss: 0.6219 - val_binary_accuracy: 0.6464\n"
     ]
    },
    {
     "data": {
      "text/plain": [
       "<keras.callbacks.History at 0x7f9d500aac50>"
      ]
     },
     "execution_count": 36,
     "metadata": {},
     "output_type": "execute_result"
    }
   ],
   "source": [
    "from tensorflow.keras.models import Sequential\n",
    "from tensorflow.keras.layers import Dense,Dropout\n",
    "from tensorflow.keras.callbacks import EarlyStopping\n",
    "\n",
    "model=Sequential()\n",
    "model.add(Dense(19, activation=\"relu\"))\n",
    "model.add(Dropout(0.2))\n",
    "model.add(Dense(20, activation='relu'))\n",
    "model.add(Dropout(0.2))\n",
    "model.add(Dense(1,activation='sigmoid'))\n",
    "model.compile(optimizer='adam',loss='binary_crossentropy',metrics=['binary_accuracy'])\n",
    "\n",
    "\n",
    "early_stop = EarlyStopping(\n",
    "        monitor='val_loss', \n",
    "        mode='min', \n",
    "        verbose=1, \n",
    "        patience=25\n",
    ")\n",
    "\n",
    "model.fit(X_train,y_train,epochs=200,batch_size=200,validation_data=(X_test,y_test),callbacks=[early_stop])"
   ]
  },
  {
   "cell_type": "code",
   "execution_count": 37,
   "metadata": {
    "colab": {
     "base_uri": "https://localhost:8080/",
     "height": 282
    },
    "id": "bNOEriT07PPf",
    "outputId": "c091ebc8-7344-47fe-b4f0-57e28f064ec1"
   },
   "outputs": [
    {
     "data": {
      "text/plain": [
       "<matplotlib.axes._subplots.AxesSubplot at 0x7f9d627cfe90>"
      ]
     },
     "execution_count": 37,
     "metadata": {},
     "output_type": "execute_result"
    },
    {
     "data": {
      "image/png": "[encoded data removed]",
      "text/plain": [
       "<Figure size 432x288 with 1 Axes>"
      ]
     },
     "metadata": {
      "needs_background": "light"
     },
     "output_type": "display_data"
    }
   ],
   "source": [
    "pd.DataFrame(model.history.history)[['loss','val_loss']].plot() "
   ]
  },
  {
   "cell_type": "code",
   "execution_count": null,
   "metadata": {
    "id": "3QYnRqOJ9SLd"
   },
   "outputs": [],
   "source": []
  }
 ],
 "metadata": {
  "accelerator": "GPU",
  "colab": {
   "collapsed_sections": [],
   "name": "Untitled0.ipynb",
   "provenance": []
  },
  "kernelspec": {
   "display_name": "Python 3 (ipykernel)",
   "language": "python",
   "name": "python3"
  },
  "language_info": {
   "codemirror_mode": {
    "name": "ipython",
    "version": 3
   },
   "file_extension": ".py",
   "mimetype": "text/x-python",
   "name": "python",
   "nbconvert_exporter": "python",
   "pygments_lexer": "ipython3",
   "version": "3.7.4"
  }
 },
 "nbformat": 4,
 "nbformat_minor": 4
}
