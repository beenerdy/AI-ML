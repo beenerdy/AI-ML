{
 "cells": [
  {
   "cell_type": "code",
   "execution_count": 1211,
   "id": "9daeb612-561a-42b7-9ee4-5a4d996ee5c1",
   "metadata": {},
   "outputs": [],
   "source": [
    "# Importing necessary libraries for data manipulation, numerical operations, machine learning, and visualization.\n",
    "import pandas as pd\n",
    "import numpy as np\n",
    "from sklearn.model_selection import train_test_split\n",
    "from sklearn.linear_model import LinearRegression\n",
    "import seaborn as sns\n",
    "import matplotlib.pyplot as plt\n",
    "from sklearn.preprocessing import StandardScaler"
   ]
  },
  {
   "cell_type": "code",
   "execution_count": 1212,
   "id": "60bc63a1-039c-4207-9e04-7f7ce82db235",
   "metadata": {},
   "outputs": [],
   "source": [
    "# Loading the Tesla stock data from a CSV file into a DataFrame.\n",
    "df=pd.read_csv('./Demo Datasets/TSLA.csv')"
   ]
  },
  {
   "cell_type": "code",
   "execution_count": 1213,
   "id": "b03ce720-da8f-477d-9b93-bc0b33a1e1b0",
   "metadata": {},
   "outputs": [],
   "source": [
    "df_tsla=pd.read_csv('./Demo Datasets/TSLA.csv')"
   ]
  },
  {
   "cell_type": "code",
   "execution_count": 1214,
   "id": "82006b4e-0dd5-4dc9-9ddc-523b47763d85",
   "metadata": {},
   "outputs": [
    {
     "data": {
      "text/html": [
       "<div>\n",
       "<style scoped>\n",
       "    .dataframe tbody tr th:only-of-type {\n",
       "        vertical-align: middle;\n",
       "    }\n",
       "\n",
       "    .dataframe tbody tr th {\n",
       "        vertical-align: top;\n",
       "    }\n",
       "\n",
       "    .dataframe thead th {\n",
       "        text-align: right;\n",
       "    }\n",
       "</style>\n",
       "<table border=\"1\" class=\"dataframe\">\n",
       "  <thead>\n",
       "    <tr style=\"text-align: right;\">\n",
       "      <th></th>\n",
       "      <th>Date</th>\n",
       "      <th>Open</th>\n",
       "      <th>High</th>\n",
       "      <th>Low</th>\n",
       "      <th>Close</th>\n",
       "      <th>Adj Close</th>\n",
       "      <th>Volume</th>\n",
       "    </tr>\n",
       "  </thead>\n",
       "  <tbody>\n",
       "    <tr>\n",
       "      <th>0</th>\n",
       "      <td>2020-01-02</td>\n",
       "      <td>84.900002</td>\n",
       "      <td>86.139999</td>\n",
       "      <td>84.342003</td>\n",
       "      <td>86.052002</td>\n",
       "      <td>86.052002</td>\n",
       "      <td>47660500</td>\n",
       "    </tr>\n",
       "    <tr>\n",
       "      <th>1</th>\n",
       "      <td>2020-01-03</td>\n",
       "      <td>88.099998</td>\n",
       "      <td>90.800003</td>\n",
       "      <td>87.384003</td>\n",
       "      <td>88.601997</td>\n",
       "      <td>88.601997</td>\n",
       "      <td>88892500</td>\n",
       "    </tr>\n",
       "    <tr>\n",
       "      <th>2</th>\n",
       "      <td>2020-01-06</td>\n",
       "      <td>88.094002</td>\n",
       "      <td>90.311996</td>\n",
       "      <td>88.000000</td>\n",
       "      <td>90.307999</td>\n",
       "      <td>90.307999</td>\n",
       "      <td>50665000</td>\n",
       "    </tr>\n",
       "    <tr>\n",
       "      <th>3</th>\n",
       "      <td>2020-01-07</td>\n",
       "      <td>92.279999</td>\n",
       "      <td>94.325996</td>\n",
       "      <td>90.671997</td>\n",
       "      <td>93.811996</td>\n",
       "      <td>93.811996</td>\n",
       "      <td>89410500</td>\n",
       "    </tr>\n",
       "    <tr>\n",
       "      <th>4</th>\n",
       "      <td>2020-01-08</td>\n",
       "      <td>94.739998</td>\n",
       "      <td>99.697998</td>\n",
       "      <td>93.646004</td>\n",
       "      <td>98.428001</td>\n",
       "      <td>98.428001</td>\n",
       "      <td>155721500</td>\n",
       "    </tr>\n",
       "  </tbody>\n",
       "</table>\n",
       "</div>"
      ],
      "text/plain": [
       "         Date       Open       High        Low      Close  Adj Close  \\\n",
       "0  2020-01-02  84.900002  86.139999  84.342003  86.052002  86.052002   \n",
       "1  2020-01-03  88.099998  90.800003  87.384003  88.601997  88.601997   \n",
       "2  2020-01-06  88.094002  90.311996  88.000000  90.307999  90.307999   \n",
       "3  2020-01-07  92.279999  94.325996  90.671997  93.811996  93.811996   \n",
       "4  2020-01-08  94.739998  99.697998  93.646004  98.428001  98.428001   \n",
       "\n",
       "      Volume  \n",
       "0   47660500  \n",
       "1   88892500  \n",
       "2   50665000  \n",
       "3   89410500  \n",
       "4  155721500  "
      ]
     },
     "execution_count": 1214,
     "metadata": {},
     "output_type": "execute_result"
    }
   ],
   "source": [
    "# Displaying the first few rows of the DataFrame to inspect the data.\n",
    "df.head()"
   ]
  },
  {
   "cell_type": "code",
   "execution_count": 1215,
   "id": "975fd327-d423-48b9-818c-9a457711b710",
   "metadata": {},
   "outputs": [
    {
     "data": {
      "text/html": [
       "<div>\n",
       "<style scoped>\n",
       "    .dataframe tbody tr th:only-of-type {\n",
       "        vertical-align: middle;\n",
       "    }\n",
       "\n",
       "    .dataframe tbody tr th {\n",
       "        vertical-align: top;\n",
       "    }\n",
       "\n",
       "    .dataframe thead th {\n",
       "        text-align: right;\n",
       "    }\n",
       "</style>\n",
       "<table border=\"1\" class=\"dataframe\">\n",
       "  <thead>\n",
       "    <tr style=\"text-align: right;\">\n",
       "      <th></th>\n",
       "      <th>Open</th>\n",
       "      <th>High</th>\n",
       "      <th>Low</th>\n",
       "      <th>Close</th>\n",
       "      <th>Adj Close</th>\n",
       "      <th>Volume</th>\n",
       "    </tr>\n",
       "  </thead>\n",
       "  <tbody>\n",
       "    <tr>\n",
       "      <th>count</th>\n",
       "      <td>253.000000</td>\n",
       "      <td>253.000000</td>\n",
       "      <td>253.000000</td>\n",
       "      <td>253.000000</td>\n",
       "      <td>253.000000</td>\n",
       "      <td>2.530000e+02</td>\n",
       "    </tr>\n",
       "    <tr>\n",
       "      <th>mean</th>\n",
       "      <td>289.108428</td>\n",
       "      <td>297.288412</td>\n",
       "      <td>280.697937</td>\n",
       "      <td>289.997067</td>\n",
       "      <td>289.997067</td>\n",
       "      <td>7.530795e+07</td>\n",
       "    </tr>\n",
       "    <tr>\n",
       "      <th>std</th>\n",
       "      <td>167.665389</td>\n",
       "      <td>171.702889</td>\n",
       "      <td>163.350196</td>\n",
       "      <td>168.995613</td>\n",
       "      <td>168.995613</td>\n",
       "      <td>4.013706e+07</td>\n",
       "    </tr>\n",
       "    <tr>\n",
       "      <th>min</th>\n",
       "      <td>74.940002</td>\n",
       "      <td>80.972000</td>\n",
       "      <td>70.101997</td>\n",
       "      <td>72.244003</td>\n",
       "      <td>72.244003</td>\n",
       "      <td>1.735770e+07</td>\n",
       "    </tr>\n",
       "    <tr>\n",
       "      <th>25%</th>\n",
       "      <td>148.367996</td>\n",
       "      <td>154.990005</td>\n",
       "      <td>143.222000</td>\n",
       "      <td>149.792007</td>\n",
       "      <td>149.792007</td>\n",
       "      <td>4.713450e+07</td>\n",
       "    </tr>\n",
       "    <tr>\n",
       "      <th>50%</th>\n",
       "      <td>244.296005</td>\n",
       "      <td>245.600006</td>\n",
       "      <td>237.119995</td>\n",
       "      <td>241.731995</td>\n",
       "      <td>241.731995</td>\n",
       "      <td>7.025550e+07</td>\n",
       "    </tr>\n",
       "    <tr>\n",
       "      <th>75%</th>\n",
       "      <td>421.390015</td>\n",
       "      <td>430.500000</td>\n",
       "      <td>410.579987</td>\n",
       "      <td>421.200012</td>\n",
       "      <td>421.200012</td>\n",
       "      <td>9.454550e+07</td>\n",
       "    </tr>\n",
       "    <tr>\n",
       "      <th>max</th>\n",
       "      <td>699.989990</td>\n",
       "      <td>718.719971</td>\n",
       "      <td>691.119995</td>\n",
       "      <td>705.669983</td>\n",
       "      <td>705.669983</td>\n",
       "      <td>3.046940e+08</td>\n",
       "    </tr>\n",
       "  </tbody>\n",
       "</table>\n",
       "</div>"
      ],
      "text/plain": [
       "             Open        High         Low       Close   Adj Close  \\\n",
       "count  253.000000  253.000000  253.000000  253.000000  253.000000   \n",
       "mean   289.108428  297.288412  280.697937  289.997067  289.997067   \n",
       "std    167.665389  171.702889  163.350196  168.995613  168.995613   \n",
       "min     74.940002   80.972000   70.101997   72.244003   72.244003   \n",
       "25%    148.367996  154.990005  143.222000  149.792007  149.792007   \n",
       "50%    244.296005  245.600006  237.119995  241.731995  241.731995   \n",
       "75%    421.390015  430.500000  410.579987  421.200012  421.200012   \n",
       "max    699.989990  718.719971  691.119995  705.669983  705.669983   \n",
       "\n",
       "             Volume  \n",
       "count  2.530000e+02  \n",
       "mean   7.530795e+07  \n",
       "std    4.013706e+07  \n",
       "min    1.735770e+07  \n",
       "25%    4.713450e+07  \n",
       "50%    7.025550e+07  \n",
       "75%    9.454550e+07  \n",
       "max    3.046940e+08  "
      ]
     },
     "execution_count": 1215,
     "metadata": {},
     "output_type": "execute_result"
    }
   ],
   "source": [
    "# Getting summary statistics for the numerical columns in the DataFrame.\n",
    "df.describe()"
   ]
  },
  {
   "cell_type": "code",
   "execution_count": 1216,
   "id": "66b66de2-c9ff-4c6a-a106-0b9efa4d18ef",
   "metadata": {},
   "outputs": [],
   "source": [
    "# Reindexing the DataFrame using the 'Date' column to facilitate time-series analysis (commented out).\n",
    "# reindex data using DatatimeIndex\n",
    "# df.set_index(pd.DatetimeIndex(df['Date']), inplace=True)"
   ]
  },
  {
   "cell_type": "code",
   "execution_count": 1217,
   "id": "8c5d6fca-6faf-4097-b2e4-1bc3b2c6ad5b",
   "metadata": {},
   "outputs": [],
   "source": [
    "# Keeping only the 'Adj Close' column, which represents the adjusted closing prices after splits and dividends (commented out).\n",
    "# keep only the Adj Close Value\n",
    "# df=df[['Adj Close']]"
   ]
  },
  {
   "cell_type": "code",
   "execution_count": 1218,
   "id": "714803e7-3522-4c5e-acda-bc63f7f865fc",
   "metadata": {},
   "outputs": [
    {
     "data": {
      "text/html": [
       "<div>\n",
       "<style scoped>\n",
       "    .dataframe tbody tr th:only-of-type {\n",
       "        vertical-align: middle;\n",
       "    }\n",
       "\n",
       "    .dataframe tbody tr th {\n",
       "        vertical-align: top;\n",
       "    }\n",
       "\n",
       "    .dataframe thead th {\n",
       "        text-align: right;\n",
       "    }\n",
       "</style>\n",
       "<table border=\"1\" class=\"dataframe\">\n",
       "  <thead>\n",
       "    <tr style=\"text-align: right;\">\n",
       "      <th></th>\n",
       "      <th>Date</th>\n",
       "      <th>Open</th>\n",
       "      <th>High</th>\n",
       "      <th>Low</th>\n",
       "      <th>Close</th>\n",
       "      <th>Adj Close</th>\n",
       "      <th>Volume</th>\n",
       "    </tr>\n",
       "  </thead>\n",
       "  <tbody>\n",
       "    <tr>\n",
       "      <th>0</th>\n",
       "      <td>2020-01-02</td>\n",
       "      <td>84.900002</td>\n",
       "      <td>86.139999</td>\n",
       "      <td>84.342003</td>\n",
       "      <td>86.052002</td>\n",
       "      <td>86.052002</td>\n",
       "      <td>47660500</td>\n",
       "    </tr>\n",
       "    <tr>\n",
       "      <th>1</th>\n",
       "      <td>2020-01-03</td>\n",
       "      <td>88.099998</td>\n",
       "      <td>90.800003</td>\n",
       "      <td>87.384003</td>\n",
       "      <td>88.601997</td>\n",
       "      <td>88.601997</td>\n",
       "      <td>88892500</td>\n",
       "    </tr>\n",
       "    <tr>\n",
       "      <th>2</th>\n",
       "      <td>2020-01-06</td>\n",
       "      <td>88.094002</td>\n",
       "      <td>90.311996</td>\n",
       "      <td>88.000000</td>\n",
       "      <td>90.307999</td>\n",
       "      <td>90.307999</td>\n",
       "      <td>50665000</td>\n",
       "    </tr>\n",
       "    <tr>\n",
       "      <th>3</th>\n",
       "      <td>2020-01-07</td>\n",
       "      <td>92.279999</td>\n",
       "      <td>94.325996</td>\n",
       "      <td>90.671997</td>\n",
       "      <td>93.811996</td>\n",
       "      <td>93.811996</td>\n",
       "      <td>89410500</td>\n",
       "    </tr>\n",
       "    <tr>\n",
       "      <th>4</th>\n",
       "      <td>2020-01-08</td>\n",
       "      <td>94.739998</td>\n",
       "      <td>99.697998</td>\n",
       "      <td>93.646004</td>\n",
       "      <td>98.428001</td>\n",
       "      <td>98.428001</td>\n",
       "      <td>155721500</td>\n",
       "    </tr>\n",
       "  </tbody>\n",
       "</table>\n",
       "</div>"
      ],
      "text/plain": [
       "         Date       Open       High        Low      Close  Adj Close  \\\n",
       "0  2020-01-02  84.900002  86.139999  84.342003  86.052002  86.052002   \n",
       "1  2020-01-03  88.099998  90.800003  87.384003  88.601997  88.601997   \n",
       "2  2020-01-06  88.094002  90.311996  88.000000  90.307999  90.307999   \n",
       "3  2020-01-07  92.279999  94.325996  90.671997  93.811996  93.811996   \n",
       "4  2020-01-08  94.739998  99.697998  93.646004  98.428001  98.428001   \n",
       "\n",
       "      Volume  \n",
       "0   47660500  \n",
       "1   88892500  \n",
       "2   50665000  \n",
       "3   89410500  \n",
       "4  155721500  "
      ]
     },
     "execution_count": 1218,
     "metadata": {},
     "output_type": "execute_result"
    }
   ],
   "source": [
    "# Displaying the first few rows of the DataFrame to inspect the data.\n",
    "df.head()"
   ]
  },
  {
   "cell_type": "code",
   "execution_count": 1219,
   "id": "02a08d35-9a09-4e04-9cc0-edced45dd83d",
   "metadata": {},
   "outputs": [
    {
     "name": "stdout",
     "output_type": "stream",
     "text": [
      "<class 'pandas.core.frame.DataFrame'>\n",
      "RangeIndex: 253 entries, 0 to 252\n",
      "Data columns (total 7 columns):\n",
      " #   Column     Non-Null Count  Dtype  \n",
      "---  ------     --------------  -----  \n",
      " 0   Date       253 non-null    object \n",
      " 1   Open       253 non-null    float64\n",
      " 2   High       253 non-null    float64\n",
      " 3   Low        253 non-null    float64\n",
      " 4   Close      253 non-null    float64\n",
      " 5   Adj Close  253 non-null    float64\n",
      " 6   Volume     253 non-null    int64  \n",
      "dtypes: float64(5), int64(1), object(1)\n",
      "memory usage: 14.0+ KB\n"
     ]
    }
   ],
   "source": [
    "# Getting a concise summary of the DataFrame, including data types and non-null counts.\n",
    "df.info()"
   ]
  },
  {
   "cell_type": "code",
   "execution_count": 1220,
   "id": "54422266-8052-4efa-9f1f-ad7bad543802",
   "metadata": {},
   "outputs": [
    {
     "data": {
      "text/plain": [
       "<AxesSubplot:>"
      ]
     },
     "execution_count": 1220,
     "metadata": {},
     "output_type": "execute_result"
    },
    {
     "data": {
      "image/png": "[encoded data removed]",
      "text/plain": [
       "<Figure size 720x720 with 1 Axes>"
      ]
     },
     "metadata": {},
     "output_type": "display_data"
    }
   ],
   "source": [
    "# Plotting the data to visualize trends or patterns in the 'Adj Close' prices.\n",
    "df.plot(figsize=(10,10),)"
   ]
  },
  {
   "cell_type": "code",
   "execution_count": 1221,
   "id": "9a08c902-3362-4989-8b27-37516a5aec82",
   "metadata": {},
   "outputs": [],
   "source": [
    "# Importing the pandas_ta library to calculate technical indicators like the Exponential Moving Average (EMA).\n",
    "import pandas_ta"
   ]
  },
  {
   "cell_type": "code",
   "execution_count": 1222,
   "id": "b7546513-c1b9-44b8-8cf4-d8a1ad7113ac",
   "metadata": {},
   "outputs": [
    {
     "data": {
      "text/plain": [
       "0             NaN\n",
       "1             NaN\n",
       "2             NaN\n",
       "3             NaN\n",
       "4             NaN\n",
       "          ...    \n",
       "248    643.572394\n",
       "249    647.230141\n",
       "250    650.641022\n",
       "251    658.666296\n",
       "252    667.212421\n",
       "Name: EMA_10, Length: 253, dtype: float64"
      ]
     },
     "execution_count": 1222,
     "metadata": {},
     "output_type": "execute_result"
    }
   ],
   "source": [
    "# Adding a 10-day Exponential Moving Average (EMA) to the DataFrame to identify trends.\n",
    "# add EMA to dataframe by appending\n",
    "# Note: pandas_ta integrates seamlessly into our existing dataframe\n",
    "\n",
    "df.ta.ema(close=\"Adj Close\",len=10,append=True)"
   ]
  },
  {
   "cell_type": "code",
   "execution_count": 1223,
   "id": "5833bd04-5289-4f1e-b8dc-aa11828e1d55",
   "metadata": {},
   "outputs": [
    {
     "data": {
      "text/html": [
       "<div>\n",
       "<style scoped>\n",
       "    .dataframe tbody tr th:only-of-type {\n",
       "        vertical-align: middle;\n",
       "    }\n",
       "\n",
       "    .dataframe tbody tr th {\n",
       "        vertical-align: top;\n",
       "    }\n",
       "\n",
       "    .dataframe thead th {\n",
       "        text-align: right;\n",
       "    }\n",
       "</style>\n",
       "<table border=\"1\" class=\"dataframe\">\n",
       "  <thead>\n",
       "    <tr style=\"text-align: right;\">\n",
       "      <th></th>\n",
       "      <th>Date</th>\n",
       "      <th>Open</th>\n",
       "      <th>High</th>\n",
       "      <th>Low</th>\n",
       "      <th>Close</th>\n",
       "      <th>Adj Close</th>\n",
       "      <th>Volume</th>\n",
       "      <th>EMA_10</th>\n",
       "    </tr>\n",
       "  </thead>\n",
       "  <tbody>\n",
       "    <tr>\n",
       "      <th>0</th>\n",
       "      <td>2020-01-02</td>\n",
       "      <td>84.900002</td>\n",
       "      <td>86.139999</td>\n",
       "      <td>84.342003</td>\n",
       "      <td>86.052002</td>\n",
       "      <td>86.052002</td>\n",
       "      <td>47660500</td>\n",
       "      <td>NaN</td>\n",
       "    </tr>\n",
       "    <tr>\n",
       "      <th>1</th>\n",
       "      <td>2020-01-03</td>\n",
       "      <td>88.099998</td>\n",
       "      <td>90.800003</td>\n",
       "      <td>87.384003</td>\n",
       "      <td>88.601997</td>\n",
       "      <td>88.601997</td>\n",
       "      <td>88892500</td>\n",
       "      <td>NaN</td>\n",
       "    </tr>\n",
       "    <tr>\n",
       "      <th>2</th>\n",
       "      <td>2020-01-06</td>\n",
       "      <td>88.094002</td>\n",
       "      <td>90.311996</td>\n",
       "      <td>88.000000</td>\n",
       "      <td>90.307999</td>\n",
       "      <td>90.307999</td>\n",
       "      <td>50665000</td>\n",
       "      <td>NaN</td>\n",
       "    </tr>\n",
       "    <tr>\n",
       "      <th>3</th>\n",
       "      <td>2020-01-07</td>\n",
       "      <td>92.279999</td>\n",
       "      <td>94.325996</td>\n",
       "      <td>90.671997</td>\n",
       "      <td>93.811996</td>\n",
       "      <td>93.811996</td>\n",
       "      <td>89410500</td>\n",
       "      <td>NaN</td>\n",
       "    </tr>\n",
       "    <tr>\n",
       "      <th>4</th>\n",
       "      <td>2020-01-08</td>\n",
       "      <td>94.739998</td>\n",
       "      <td>99.697998</td>\n",
       "      <td>93.646004</td>\n",
       "      <td>98.428001</td>\n",
       "      <td>98.428001</td>\n",
       "      <td>155721500</td>\n",
       "      <td>NaN</td>\n",
       "    </tr>\n",
       "    <tr>\n",
       "      <th>5</th>\n",
       "      <td>2020-01-09</td>\n",
       "      <td>99.419998</td>\n",
       "      <td>99.760002</td>\n",
       "      <td>94.573997</td>\n",
       "      <td>96.267998</td>\n",
       "      <td>96.267998</td>\n",
       "      <td>142202000</td>\n",
       "      <td>NaN</td>\n",
       "    </tr>\n",
       "    <tr>\n",
       "      <th>6</th>\n",
       "      <td>2020-01-10</td>\n",
       "      <td>96.358002</td>\n",
       "      <td>96.987999</td>\n",
       "      <td>94.739998</td>\n",
       "      <td>95.629997</td>\n",
       "      <td>95.629997</td>\n",
       "      <td>64797500</td>\n",
       "      <td>NaN</td>\n",
       "    </tr>\n",
       "    <tr>\n",
       "      <th>7</th>\n",
       "      <td>2020-01-13</td>\n",
       "      <td>98.699997</td>\n",
       "      <td>105.125999</td>\n",
       "      <td>98.400002</td>\n",
       "      <td>104.972000</td>\n",
       "      <td>104.972000</td>\n",
       "      <td>132588000</td>\n",
       "      <td>NaN</td>\n",
       "    </tr>\n",
       "    <tr>\n",
       "      <th>8</th>\n",
       "      <td>2020-01-14</td>\n",
       "      <td>108.851997</td>\n",
       "      <td>109.482002</td>\n",
       "      <td>104.980003</td>\n",
       "      <td>107.584000</td>\n",
       "      <td>107.584000</td>\n",
       "      <td>144981000</td>\n",
       "      <td>NaN</td>\n",
       "    </tr>\n",
       "    <tr>\n",
       "      <th>9</th>\n",
       "      <td>2020-01-15</td>\n",
       "      <td>105.952003</td>\n",
       "      <td>107.568001</td>\n",
       "      <td>103.358002</td>\n",
       "      <td>103.699997</td>\n",
       "      <td>103.699997</td>\n",
       "      <td>86844000</td>\n",
       "      <td>96.535599</td>\n",
       "    </tr>\n",
       "  </tbody>\n",
       "</table>\n",
       "</div>"
      ],
      "text/plain": [
       "         Date        Open        High         Low       Close   Adj Close  \\\n",
       "0  2020-01-02   84.900002   86.139999   84.342003   86.052002   86.052002   \n",
       "1  2020-01-03   88.099998   90.800003   87.384003   88.601997   88.601997   \n",
       "2  2020-01-06   88.094002   90.311996   88.000000   90.307999   90.307999   \n",
       "3  2020-01-07   92.279999   94.325996   90.671997   93.811996   93.811996   \n",
       "4  2020-01-08   94.739998   99.697998   93.646004   98.428001   98.428001   \n",
       "5  2020-01-09   99.419998   99.760002   94.573997   96.267998   96.267998   \n",
       "6  2020-01-10   96.358002   96.987999   94.739998   95.629997   95.629997   \n",
       "7  2020-01-13   98.699997  105.125999   98.400002  104.972000  104.972000   \n",
       "8  2020-01-14  108.851997  109.482002  104.980003  107.584000  107.584000   \n",
       "9  2020-01-15  105.952003  107.568001  103.358002  103.699997  103.699997   \n",
       "\n",
       "      Volume     EMA_10  \n",
       "0   47660500        NaN  \n",
       "1   88892500        NaN  \n",
       "2   50665000        NaN  \n",
       "3   89410500        NaN  \n",
       "4  155721500        NaN  \n",
       "5  142202000        NaN  \n",
       "6   64797500        NaN  \n",
       "7  132588000        NaN  \n",
       "8  144981000        NaN  \n",
       "9   86844000  96.535599  "
      ]
     },
     "execution_count": 1223,
     "metadata": {},
     "output_type": "execute_result"
    }
   ],
   "source": [
    "df.head(10)"
   ]
  },
  {
   "cell_type": "code",
   "execution_count": 1224,
   "id": "a542ab6d-73f4-48c7-bdda-4a1c29272838",
   "metadata": {},
   "outputs": [],
   "source": [
    "df=df.iloc[10:]"
   ]
  },
  {
   "cell_type": "code",
   "execution_count": 1225,
   "id": "961e80c5-7990-45f1-a06a-3a38c3e02ee0",
   "metadata": {},
   "outputs": [
    {
     "data": {
      "text/html": [
       "<div>\n",
       "<style scoped>\n",
       "    .dataframe tbody tr th:only-of-type {\n",
       "        vertical-align: middle;\n",
       "    }\n",
       "\n",
       "    .dataframe tbody tr th {\n",
       "        vertical-align: top;\n",
       "    }\n",
       "\n",
       "    .dataframe thead th {\n",
       "        text-align: right;\n",
       "    }\n",
       "</style>\n",
       "<table border=\"1\" class=\"dataframe\">\n",
       "  <thead>\n",
       "    <tr style=\"text-align: right;\">\n",
       "      <th></th>\n",
       "      <th>Date</th>\n",
       "      <th>Open</th>\n",
       "      <th>High</th>\n",
       "      <th>Low</th>\n",
       "      <th>Close</th>\n",
       "      <th>Adj Close</th>\n",
       "      <th>Volume</th>\n",
       "      <th>EMA_10</th>\n",
       "    </tr>\n",
       "  </thead>\n",
       "  <tbody>\n",
       "    <tr>\n",
       "      <th>10</th>\n",
       "      <td>2020-01-16</td>\n",
       "      <td>98.750000</td>\n",
       "      <td>102.891998</td>\n",
       "      <td>98.433998</td>\n",
       "      <td>102.697998</td>\n",
       "      <td>102.697998</td>\n",
       "      <td>108683500</td>\n",
       "      <td>97.656035</td>\n",
       "    </tr>\n",
       "    <tr>\n",
       "      <th>11</th>\n",
       "      <td>2020-01-17</td>\n",
       "      <td>101.522003</td>\n",
       "      <td>103.134003</td>\n",
       "      <td>100.632004</td>\n",
       "      <td>102.099998</td>\n",
       "      <td>102.099998</td>\n",
       "      <td>68145500</td>\n",
       "      <td>98.464028</td>\n",
       "    </tr>\n",
       "    <tr>\n",
       "      <th>12</th>\n",
       "      <td>2020-01-21</td>\n",
       "      <td>106.050003</td>\n",
       "      <td>109.716003</td>\n",
       "      <td>105.681999</td>\n",
       "      <td>109.440002</td>\n",
       "      <td>109.440002</td>\n",
       "      <td>89017500</td>\n",
       "      <td>100.459660</td>\n",
       "    </tr>\n",
       "    <tr>\n",
       "      <th>13</th>\n",
       "      <td>2020-01-22</td>\n",
       "      <td>114.377998</td>\n",
       "      <td>118.900002</td>\n",
       "      <td>111.820000</td>\n",
       "      <td>113.912003</td>\n",
       "      <td>113.912003</td>\n",
       "      <td>156845000</td>\n",
       "      <td>102.905540</td>\n",
       "    </tr>\n",
       "    <tr>\n",
       "      <th>14</th>\n",
       "      <td>2020-01-23</td>\n",
       "      <td>112.849998</td>\n",
       "      <td>116.400002</td>\n",
       "      <td>111.120003</td>\n",
       "      <td>114.440002</td>\n",
       "      <td>114.440002</td>\n",
       "      <td>98255000</td>\n",
       "      <td>105.002715</td>\n",
       "    </tr>\n",
       "    <tr>\n",
       "      <th>15</th>\n",
       "      <td>2020-01-24</td>\n",
       "      <td>114.125999</td>\n",
       "      <td>114.772003</td>\n",
       "      <td>110.851997</td>\n",
       "      <td>112.963997</td>\n",
       "      <td>112.963997</td>\n",
       "      <td>71768000</td>\n",
       "      <td>106.450221</td>\n",
       "    </tr>\n",
       "    <tr>\n",
       "      <th>16</th>\n",
       "      <td>2020-01-27</td>\n",
       "      <td>108.398003</td>\n",
       "      <td>112.888000</td>\n",
       "      <td>107.856003</td>\n",
       "      <td>111.603996</td>\n",
       "      <td>111.603996</td>\n",
       "      <td>68040500</td>\n",
       "      <td>107.387271</td>\n",
       "    </tr>\n",
       "    <tr>\n",
       "      <th>17</th>\n",
       "      <td>2020-01-28</td>\n",
       "      <td>113.697998</td>\n",
       "      <td>115.362000</td>\n",
       "      <td>111.615997</td>\n",
       "      <td>113.379997</td>\n",
       "      <td>113.379997</td>\n",
       "      <td>58942500</td>\n",
       "      <td>108.476858</td>\n",
       "    </tr>\n",
       "    <tr>\n",
       "      <th>18</th>\n",
       "      <td>2020-01-29</td>\n",
       "      <td>115.138000</td>\n",
       "      <td>117.959999</td>\n",
       "      <td>113.486000</td>\n",
       "      <td>116.197998</td>\n",
       "      <td>116.197998</td>\n",
       "      <td>89007500</td>\n",
       "      <td>109.880701</td>\n",
       "    </tr>\n",
       "    <tr>\n",
       "      <th>19</th>\n",
       "      <td>2020-01-30</td>\n",
       "      <td>126.484001</td>\n",
       "      <td>130.175995</td>\n",
       "      <td>123.599998</td>\n",
       "      <td>128.162003</td>\n",
       "      <td>128.162003</td>\n",
       "      <td>145028500</td>\n",
       "      <td>113.204574</td>\n",
       "    </tr>\n",
       "  </tbody>\n",
       "</table>\n",
       "</div>"
      ],
      "text/plain": [
       "          Date        Open        High         Low       Close   Adj Close  \\\n",
       "10  2020-01-16   98.750000  102.891998   98.433998  102.697998  102.697998   \n",
       "11  2020-01-17  101.522003  103.134003  100.632004  102.099998  102.099998   \n",
       "12  2020-01-21  106.050003  109.716003  105.681999  109.440002  109.440002   \n",
       "13  2020-01-22  114.377998  118.900002  111.820000  113.912003  113.912003   \n",
       "14  2020-01-23  112.849998  116.400002  111.120003  114.440002  114.440002   \n",
       "15  2020-01-24  114.125999  114.772003  110.851997  112.963997  112.963997   \n",
       "16  2020-01-27  108.398003  112.888000  107.856003  111.603996  111.603996   \n",
       "17  2020-01-28  113.697998  115.362000  111.615997  113.379997  113.379997   \n",
       "18  2020-01-29  115.138000  117.959999  113.486000  116.197998  116.197998   \n",
       "19  2020-01-30  126.484001  130.175995  123.599998  128.162003  128.162003   \n",
       "\n",
       "       Volume      EMA_10  \n",
       "10  108683500   97.656035  \n",
       "11   68145500   98.464028  \n",
       "12   89017500  100.459660  \n",
       "13  156845000  102.905540  \n",
       "14   98255000  105.002715  \n",
       "15   71768000  106.450221  \n",
       "16   68040500  107.387271  \n",
       "17   58942500  108.476858  \n",
       "18   89007500  109.880701  \n",
       "19  145028500  113.204574  "
      ]
     },
     "execution_count": 1225,
     "metadata": {},
     "output_type": "execute_result"
    }
   ],
   "source": [
    "df.head(10)"
   ]
  },
  {
   "cell_type": "code",
   "execution_count": 1226,
   "id": "26db2eac-a4e3-483b-a578-1888eb61499a",
   "metadata": {},
   "outputs": [
    {
     "data": {
      "text/plain": [
       "Index(['Date', 'Open', 'High', 'Low', 'Close', 'Adj Close', 'Volume',\n",
       "       'EMA_10'],\n",
       "      dtype='object')"
      ]
     },
     "execution_count": 1226,
     "metadata": {},
     "output_type": "execute_result"
    }
   ],
   "source": [
    "# Checking the column names to confirm the structure of the DataFrame after adding the EMA.\n",
    "df.columns"
   ]
  },
  {
   "cell_type": "code",
   "execution_count": 1227,
   "id": "fcb45df0-8af8-41fa-9cf2-d7398ff2b289",
   "metadata": {},
   "outputs": [
    {
     "data": {
      "text/plain": [
       "<AxesSubplot:>"
      ]
     },
     "execution_count": 1227,
     "metadata": {},
     "output_type": "execute_result"
    },
    {
     "data": {
      "image/png": "[encoded data removed]",
      "text/plain": [
       "<Figure size 720x720 with 1 Axes>"
      ]
     },
     "metadata": {},
     "output_type": "display_data"
    }
   ],
   "source": [
    "df[['EMA_10','Adj Close']].plot(figsize=(10,10))"
   ]
  },
  {
   "cell_type": "code",
   "execution_count": 1228,
   "id": "d3b741fc-a4b5-487e-a5a8-baaa9f666e84",
   "metadata": {},
   "outputs": [
    {
     "name": "stdout",
     "output_type": "stream",
     "text": [
      "     index   Adj Close        Open        High         Low\n",
      "0       10  102.697998   98.750000  102.891998   98.433998\n",
      "1       11  102.099998  101.522003  103.134003  100.632004\n",
      "2       12  109.440002  106.050003  109.716003  105.681999\n",
      "3       13  113.912003  114.377998  118.900002  111.820000\n",
      "4       14  114.440002  112.849998  116.400002  111.120003\n",
      "..     ...         ...         ...         ...         ...\n",
      "238    248  661.770020  642.989990  666.090027  641.000000\n",
      "239    249  663.690002  674.510010  681.400024  660.799988\n",
      "240    250  665.989990  661.000000  669.900024  655.000000\n",
      "241    251  694.780029  672.000000  696.599976  668.359985\n",
      "242    252  705.669983  699.989990  718.719971  691.119995\n",
      "\n",
      "[243 rows x 5 columns]\n"
     ]
    }
   ],
   "source": [
    "# Preparing the feature set (X) with relevant stock price columns and splitting the data into training and test sets.\n",
    "X=df[['Adj Close', 'Open', 'High', 'Low']].reset_index()\n",
    "\n",
    "print(X)\n",
    "\n",
    "X_train,X_test,y_train,y_test=train_test_split(X,df[['EMA_10']],test_size=.2)\n",
    "\n",
    "scaler=StandardScaler()\n",
    "X_train=scaler.fit_transform(X_train)\n",
    "X_test=scaler.transform(X_test)\n"
   ]
  },
  {
   "cell_type": "code",
   "execution_count": 1229,
   "id": "17a75566-492c-4f46-b3ee-2344f8dbfc18",
   "metadata": {},
   "outputs": [
    {
     "data": {
      "text/plain": [
       "LinearRegression()"
      ]
     },
     "execution_count": 1229,
     "metadata": {},
     "output_type": "execute_result"
    }
   ],
   "source": [
    "# Initializing and training a Linear Regression model on the standardized training data.\n",
    "model=LinearRegression()\n",
    "model.fit(X_train,y_train)"
   ]
  },
  {
   "cell_type": "code",
   "execution_count": 1230,
   "id": "1f3767ac-4608-42b9-91d7-3cc06a9f30ba",
   "metadata": {},
   "outputs": [],
   "source": [
    "# Making predictions on the test data using the trained Linear Regression model.\n",
    "y_pred=model.predict(X_test)"
   ]
  },
  {
   "cell_type": "code",
   "execution_count": 1231,
   "id": "c7738676-3b82-4899-9fb0-f3ab43419972",
   "metadata": {},
   "outputs": [],
   "source": [
    "# Importing metrics to evaluate the model's performance and calculating error metrics like MAE and R².\n",
    "from sklearn.metrics import mean_squared_error,r2_score,mean_absolute_error"
   ]
  },
  {
   "cell_type": "code",
   "execution_count": 1232,
   "id": "e8fae690-124f-44fb-a00a-6131952df79c",
   "metadata": {},
   "outputs": [
    {
     "name": "stdout",
     "output_type": "stream",
     "text": [
      "Model coefficients:  [[ 15.45836611  69.96764595  85.09152247 -13.67451807   3.7022835 ]]\n",
      "Mean Absolute Error:  12.952305952045005\n",
      "Coefficient of determination:  0.9868015012418532\n"
     ]
    }
   ],
   "source": [
    "print('Model coefficients: ',model.coef_)\n",
    "print('Mean Absolute Error: ',mean_absolute_error(y_test, y_pred))\n",
    "print('Coefficient of determination: ',r2_score(y_test, y_pred))"
   ]
  },
  {
   "cell_type": "code",
   "execution_count": 1233,
   "id": "0c4ef407-ca5c-45af-8867-d2c3c3293b29",
   "metadata": {},
   "outputs": [],
   "source": [
    "sns.set_theme(color_codes=True)"
   ]
  },
  {
   "cell_type": "code",
   "execution_count": 1234,
   "id": "8ba216c1-8f61-46c6-ab6b-fc23b1f74bc9",
   "metadata": {},
   "outputs": [
    {
     "data": {
      "image/png": "[encoded data removed]",
      "text/plain": [
       "<Figure size 432x288 with 1 Axes>"
      ]
     },
     "metadata": {},
     "output_type": "display_data"
    }
   ],
   "source": [
    "# Visualizing the relationship between actual 'Adj Close' prices and the model's predicted values.\n",
    "sns.regplot(x=\"Adj Close\", y=\"EMA_10\", data=df);"
   ]
  },
  {
   "cell_type": "code",
   "execution_count": 1235,
   "id": "c28c884a-28c0-4c64-8e12-6a3c0267514f",
   "metadata": {},
   "outputs": [
    {
     "data": {
      "text/html": [
       "<div>\n",
       "<style scoped>\n",
       "    .dataframe tbody tr th:only-of-type {\n",
       "        vertical-align: middle;\n",
       "    }\n",
       "\n",
       "    .dataframe tbody tr th {\n",
       "        vertical-align: top;\n",
       "    }\n",
       "\n",
       "    .dataframe thead th {\n",
       "        text-align: right;\n",
       "    }\n",
       "</style>\n",
       "<table border=\"1\" class=\"dataframe\">\n",
       "  <thead>\n",
       "    <tr style=\"text-align: right;\">\n",
       "      <th></th>\n",
       "      <th>index</th>\n",
       "      <th>Adj Close</th>\n",
       "      <th>Open</th>\n",
       "      <th>High</th>\n",
       "      <th>Low</th>\n",
       "    </tr>\n",
       "  </thead>\n",
       "  <tbody>\n",
       "    <tr>\n",
       "      <th>0</th>\n",
       "      <td>10</td>\n",
       "      <td>102.697998</td>\n",
       "      <td>98.750000</td>\n",
       "      <td>102.891998</td>\n",
       "      <td>98.433998</td>\n",
       "    </tr>\n",
       "    <tr>\n",
       "      <th>1</th>\n",
       "      <td>11</td>\n",
       "      <td>102.099998</td>\n",
       "      <td>101.522003</td>\n",
       "      <td>103.134003</td>\n",
       "      <td>100.632004</td>\n",
       "    </tr>\n",
       "    <tr>\n",
       "      <th>2</th>\n",
       "      <td>12</td>\n",
       "      <td>109.440002</td>\n",
       "      <td>106.050003</td>\n",
       "      <td>109.716003</td>\n",
       "      <td>105.681999</td>\n",
       "    </tr>\n",
       "    <tr>\n",
       "      <th>3</th>\n",
       "      <td>13</td>\n",
       "      <td>113.912003</td>\n",
       "      <td>114.377998</td>\n",
       "      <td>118.900002</td>\n",
       "      <td>111.820000</td>\n",
       "    </tr>\n",
       "    <tr>\n",
       "      <th>4</th>\n",
       "      <td>14</td>\n",
       "      <td>114.440002</td>\n",
       "      <td>112.849998</td>\n",
       "      <td>116.400002</td>\n",
       "      <td>111.120003</td>\n",
       "    </tr>\n",
       "    <tr>\n",
       "      <th>...</th>\n",
       "      <td>...</td>\n",
       "      <td>...</td>\n",
       "      <td>...</td>\n",
       "      <td>...</td>\n",
       "      <td>...</td>\n",
       "    </tr>\n",
       "    <tr>\n",
       "      <th>238</th>\n",
       "      <td>248</td>\n",
       "      <td>661.770020</td>\n",
       "      <td>642.989990</td>\n",
       "      <td>666.090027</td>\n",
       "      <td>641.000000</td>\n",
       "    </tr>\n",
       "    <tr>\n",
       "      <th>239</th>\n",
       "      <td>249</td>\n",
       "      <td>663.690002</td>\n",
       "      <td>674.510010</td>\n",
       "      <td>681.400024</td>\n",
       "      <td>660.799988</td>\n",
       "    </tr>\n",
       "    <tr>\n",
       "      <th>240</th>\n",
       "      <td>250</td>\n",
       "      <td>665.989990</td>\n",
       "      <td>661.000000</td>\n",
       "      <td>669.900024</td>\n",
       "      <td>655.000000</td>\n",
       "    </tr>\n",
       "    <tr>\n",
       "      <th>241</th>\n",
       "      <td>251</td>\n",
       "      <td>694.780029</td>\n",
       "      <td>672.000000</td>\n",
       "      <td>696.599976</td>\n",
       "      <td>668.359985</td>\n",
       "    </tr>\n",
       "    <tr>\n",
       "      <th>242</th>\n",
       "      <td>252</td>\n",
       "      <td>705.669983</td>\n",
       "      <td>699.989990</td>\n",
       "      <td>718.719971</td>\n",
       "      <td>691.119995</td>\n",
       "    </tr>\n",
       "  </tbody>\n",
       "</table>\n",
       "<p>243 rows × 5 columns</p>\n",
       "</div>"
      ],
      "text/plain": [
       "     index   Adj Close        Open        High         Low\n",
       "0       10  102.697998   98.750000  102.891998   98.433998\n",
       "1       11  102.099998  101.522003  103.134003  100.632004\n",
       "2       12  109.440002  106.050003  109.716003  105.681999\n",
       "3       13  113.912003  114.377998  118.900002  111.820000\n",
       "4       14  114.440002  112.849998  116.400002  111.120003\n",
       "..     ...         ...         ...         ...         ...\n",
       "238    248  661.770020  642.989990  666.090027  641.000000\n",
       "239    249  663.690002  674.510010  681.400024  660.799988\n",
       "240    250  665.989990  661.000000  669.900024  655.000000\n",
       "241    251  694.780029  672.000000  696.599976  668.359985\n",
       "242    252  705.669983  699.989990  718.719971  691.119995\n",
       "\n",
       "[243 rows x 5 columns]"
      ]
     },
     "execution_count": 1235,
     "metadata": {},
     "output_type": "execute_result"
    }
   ],
   "source": [
    "X"
   ]
  },
  {
   "cell_type": "code",
   "execution_count": 1236,
   "id": "114e8e00-bcec-4f2e-92f6-73b8e16e527e",
   "metadata": {},
   "outputs": [
    {
     "data": {
      "text/html": [
       "<div>\n",
       "<style scoped>\n",
       "    .dataframe tbody tr th:only-of-type {\n",
       "        vertical-align: middle;\n",
       "    }\n",
       "\n",
       "    .dataframe tbody tr th {\n",
       "        vertical-align: top;\n",
       "    }\n",
       "\n",
       "    .dataframe thead th {\n",
       "        text-align: right;\n",
       "    }\n",
       "</style>\n",
       "<table border=\"1\" class=\"dataframe\">\n",
       "  <thead>\n",
       "    <tr style=\"text-align: right;\">\n",
       "      <th></th>\n",
       "      <th>index</th>\n",
       "      <th>Adj Close</th>\n",
       "      <th>Open</th>\n",
       "      <th>High</th>\n",
       "      <th>Low</th>\n",
       "      <th>Predicted Close</th>\n",
       "    </tr>\n",
       "  </thead>\n",
       "  <tbody>\n",
       "    <tr>\n",
       "      <th>0</th>\n",
       "      <td>10</td>\n",
       "      <td>102.697998</td>\n",
       "      <td>98.750000</td>\n",
       "      <td>102.891998</td>\n",
       "      <td>98.433998</td>\n",
       "      <td>14990.297436</td>\n",
       "    </tr>\n",
       "    <tr>\n",
       "      <th>1</th>\n",
       "      <td>11</td>\n",
       "      <td>102.099998</td>\n",
       "      <td>101.522003</td>\n",
       "      <td>103.134003</td>\n",
       "      <td>100.632004</td>\n",
       "      <td>15204.617445</td>\n",
       "    </tr>\n",
       "    <tr>\n",
       "      <th>2</th>\n",
       "      <td>12</td>\n",
       "      <td>109.440002</td>\n",
       "      <td>106.050003</td>\n",
       "      <td>109.716003</td>\n",
       "      <td>105.681999</td>\n",
       "      <td>16047.623861</td>\n",
       "    </tr>\n",
       "    <tr>\n",
       "      <th>3</th>\n",
       "      <td>13</td>\n",
       "      <td>113.912003</td>\n",
       "      <td>114.377998</td>\n",
       "      <td>118.900002</td>\n",
       "      <td>111.820000</td>\n",
       "      <td>16981.757243</td>\n",
       "    </tr>\n",
       "    <tr>\n",
       "      <th>4</th>\n",
       "      <td>14</td>\n",
       "      <td>114.440002</td>\n",
       "      <td>112.849998</td>\n",
       "      <td>116.400002</td>\n",
       "      <td>111.120003</td>\n",
       "      <td>16935.733318</td>\n",
       "    </tr>\n",
       "  </tbody>\n",
       "</table>\n",
       "</div>"
      ],
      "text/plain": [
       "   index   Adj Close        Open        High         Low  Predicted Close\n",
       "0     10  102.697998   98.750000  102.891998   98.433998     14990.297436\n",
       "1     11  102.099998  101.522003  103.134003  100.632004     15204.617445\n",
       "2     12  109.440002  106.050003  109.716003  105.681999     16047.623861\n",
       "3     13  113.912003  114.377998  118.900002  111.820000     16981.757243\n",
       "4     14  114.440002  112.849998  116.400002  111.120003     16935.733318"
      ]
     },
     "execution_count": 1236,
     "metadata": {},
     "output_type": "execute_result"
    }
   ],
   "source": [
    "# Applying the trained model to predict closing prices for the entire dataset and adding predictions to the DataFrame.\n",
    "X['Predicted Close']=model.predict(X)\n",
    "X.head()"
   ]
  },
  {
   "cell_type": "code",
   "execution_count": 1238,
   "id": "fc7f735a-d12c-4eb3-a31f-19c056010ee7",
   "metadata": {},
   "outputs": [
    {
     "data": {
      "image/png": "[encoded data removed]",
      "text/plain": [
       "<Figure size 432x288 with 1 Axes>"
      ]
     },
     "metadata": {},
     "output_type": "display_data"
    }
   ],
   "source": [
    "# Visualizing the relationship between actual 'Adj Close' prices and the model's predicted values.\n",
    "sns.regplot(x=\"Adj Close\", y=\"Predicted Close\", data=X);"
   ]
  },
  {
   "cell_type": "code",
   "execution_count": 1079,
   "id": "ad820e0c-f229-4762-9a0f-35bfc8f76d26",
   "metadata": {},
   "outputs": [
    {
     "name": "stdout",
     "output_type": "stream",
     "text": [
      "True    243\n",
      "Name: Target, dtype: int64\n"
     ]
    }
   ],
   "source": [
    "# Generating a trade signal based on whether the predicted close is higher than the opening price.\n",
    "X['Target']=X['Open']<X['Predicted Close']\n",
    "\n",
    "print(X['Target'].value_counts())"
   ]
  },
  {
   "cell_type": "code",
   "execution_count": 1080,
   "id": "fb5178d4-257a-4aae-add0-bbd579baa3fa",
   "metadata": {},
   "outputs": [
    {
     "data": {
      "text/plain": [
       "(243, 7)"
      ]
     },
     "execution_count": 1080,
     "metadata": {},
     "output_type": "execute_result"
    }
   ],
   "source": [
    "is_a_trade=X['Target']==True\n",
    "X=X[is_a_trade]\n",
    "\n",
    "X.shape"
   ]
  },
  {
   "cell_type": "code",
   "execution_count": 1081,
   "id": "540b21ed-fdf7-4849-a420-c540435058f6",
   "metadata": {},
   "outputs": [],
   "source": [
    "X.reset_index(inplace=True)"
   ]
  },
  {
   "cell_type": "code",
   "execution_count": 1082,
   "id": "24846df2-37b8-441e-97ab-a8fd92d8d647",
   "metadata": {},
   "outputs": [],
   "source": [
    "# Initializing a 'Gain' column to track the cumulative gains from the trading strategy, starting with an initial investment.\n",
    "X['Gain']=0"
   ]
  },
  {
   "cell_type": "code",
   "execution_count": 1083,
   "id": "13da72f5-a42a-4679-9f60-d6431e17e6f2",
   "metadata": {},
   "outputs": [
    {
     "data": {
      "text/html": [
       "<div>\n",
       "<style scoped>\n",
       "    .dataframe tbody tr th:only-of-type {\n",
       "        vertical-align: middle;\n",
       "    }\n",
       "\n",
       "    .dataframe tbody tr th {\n",
       "        vertical-align: top;\n",
       "    }\n",
       "\n",
       "    .dataframe thead th {\n",
       "        text-align: right;\n",
       "    }\n",
       "</style>\n",
       "<table border=\"1\" class=\"dataframe\">\n",
       "  <thead>\n",
       "    <tr style=\"text-align: right;\">\n",
       "      <th></th>\n",
       "      <th>level_0</th>\n",
       "      <th>index</th>\n",
       "      <th>Adj Close</th>\n",
       "      <th>Open</th>\n",
       "      <th>High</th>\n",
       "      <th>Low</th>\n",
       "      <th>Predicted Close</th>\n",
       "      <th>Target</th>\n",
       "      <th>Gain</th>\n",
       "    </tr>\n",
       "  </thead>\n",
       "  <tbody>\n",
       "    <tr>\n",
       "      <th>0</th>\n",
       "      <td>0</td>\n",
       "      <td>10</td>\n",
       "      <td>102.697998</td>\n",
       "      <td>98.750000</td>\n",
       "      <td>102.891998</td>\n",
       "      <td>98.433998</td>\n",
       "      <td>15125.546703</td>\n",
       "      <td>True</td>\n",
       "      <td>0</td>\n",
       "    </tr>\n",
       "    <tr>\n",
       "      <th>1</th>\n",
       "      <td>1</td>\n",
       "      <td>11</td>\n",
       "      <td>102.099998</td>\n",
       "      <td>101.522003</td>\n",
       "      <td>103.134003</td>\n",
       "      <td>100.632004</td>\n",
       "      <td>15405.343422</td>\n",
       "      <td>True</td>\n",
       "      <td>0</td>\n",
       "    </tr>\n",
       "    <tr>\n",
       "      <th>2</th>\n",
       "      <td>2</td>\n",
       "      <td>12</td>\n",
       "      <td>109.440002</td>\n",
       "      <td>106.050003</td>\n",
       "      <td>109.716003</td>\n",
       "      <td>105.681999</td>\n",
       "      <td>16208.381920</td>\n",
       "      <td>True</td>\n",
       "      <td>0</td>\n",
       "    </tr>\n",
       "    <tr>\n",
       "      <th>3</th>\n",
       "      <td>3</td>\n",
       "      <td>13</td>\n",
       "      <td>113.912003</td>\n",
       "      <td>114.377998</td>\n",
       "      <td>118.900002</td>\n",
       "      <td>111.820000</td>\n",
       "      <td>17308.755507</td>\n",
       "      <td>True</td>\n",
       "      <td>0</td>\n",
       "    </tr>\n",
       "    <tr>\n",
       "      <th>4</th>\n",
       "      <td>4</td>\n",
       "      <td>14</td>\n",
       "      <td>114.440002</td>\n",
       "      <td>112.849998</td>\n",
       "      <td>116.400002</td>\n",
       "      <td>111.120003</td>\n",
       "      <td>17140.725581</td>\n",
       "      <td>True</td>\n",
       "      <td>0</td>\n",
       "    </tr>\n",
       "  </tbody>\n",
       "</table>\n",
       "</div>"
      ],
      "text/plain": [
       "   level_0  index   Adj Close        Open        High         Low  \\\n",
       "0        0     10  102.697998   98.750000  102.891998   98.433998   \n",
       "1        1     11  102.099998  101.522003  103.134003  100.632004   \n",
       "2        2     12  109.440002  106.050003  109.716003  105.681999   \n",
       "3        3     13  113.912003  114.377998  118.900002  111.820000   \n",
       "4        4     14  114.440002  112.849998  116.400002  111.120003   \n",
       "\n",
       "   Predicted Close  Target  Gain  \n",
       "0     15125.546703    True     0  \n",
       "1     15405.343422    True     0  \n",
       "2     16208.381920    True     0  \n",
       "3     17308.755507    True     0  \n",
       "4     17140.725581    True     0  "
      ]
     },
     "execution_count": 1083,
     "metadata": {},
     "output_type": "execute_result"
    }
   ],
   "source": [
    "X.head()"
   ]
  },
  {
   "cell_type": "code",
   "execution_count": 1084,
   "id": "690b5930-a188-4789-a712-7649802e67b7",
   "metadata": {},
   "outputs": [],
   "source": [
    "X.at[0,'Gain']=1000"
   ]
  },
  {
   "cell_type": "code",
   "execution_count": 1085,
   "id": "c35f0334-36aa-4da5-9c64-fe23011cb363",
   "metadata": {},
   "outputs": [
    {
     "data": {
      "text/html": [
       "<div>\n",
       "<style scoped>\n",
       "    .dataframe tbody tr th:only-of-type {\n",
       "        vertical-align: middle;\n",
       "    }\n",
       "\n",
       "    .dataframe tbody tr th {\n",
       "        vertical-align: top;\n",
       "    }\n",
       "\n",
       "    .dataframe thead th {\n",
       "        text-align: right;\n",
       "    }\n",
       "</style>\n",
       "<table border=\"1\" class=\"dataframe\">\n",
       "  <thead>\n",
       "    <tr style=\"text-align: right;\">\n",
       "      <th></th>\n",
       "      <th>level_0</th>\n",
       "      <th>index</th>\n",
       "      <th>Adj Close</th>\n",
       "      <th>Open</th>\n",
       "      <th>High</th>\n",
       "      <th>Low</th>\n",
       "      <th>Predicted Close</th>\n",
       "      <th>Target</th>\n",
       "      <th>Gain</th>\n",
       "    </tr>\n",
       "  </thead>\n",
       "  <tbody>\n",
       "    <tr>\n",
       "      <th>0</th>\n",
       "      <td>0</td>\n",
       "      <td>10</td>\n",
       "      <td>102.697998</td>\n",
       "      <td>98.750000</td>\n",
       "      <td>102.891998</td>\n",
       "      <td>98.433998</td>\n",
       "      <td>15125.546703</td>\n",
       "      <td>True</td>\n",
       "      <td>1000</td>\n",
       "    </tr>\n",
       "    <tr>\n",
       "      <th>1</th>\n",
       "      <td>1</td>\n",
       "      <td>11</td>\n",
       "      <td>102.099998</td>\n",
       "      <td>101.522003</td>\n",
       "      <td>103.134003</td>\n",
       "      <td>100.632004</td>\n",
       "      <td>15405.343422</td>\n",
       "      <td>True</td>\n",
       "      <td>0</td>\n",
       "    </tr>\n",
       "    <tr>\n",
       "      <th>2</th>\n",
       "      <td>2</td>\n",
       "      <td>12</td>\n",
       "      <td>109.440002</td>\n",
       "      <td>106.050003</td>\n",
       "      <td>109.716003</td>\n",
       "      <td>105.681999</td>\n",
       "      <td>16208.381920</td>\n",
       "      <td>True</td>\n",
       "      <td>0</td>\n",
       "    </tr>\n",
       "    <tr>\n",
       "      <th>3</th>\n",
       "      <td>3</td>\n",
       "      <td>13</td>\n",
       "      <td>113.912003</td>\n",
       "      <td>114.377998</td>\n",
       "      <td>118.900002</td>\n",
       "      <td>111.820000</td>\n",
       "      <td>17308.755507</td>\n",
       "      <td>True</td>\n",
       "      <td>0</td>\n",
       "    </tr>\n",
       "    <tr>\n",
       "      <th>4</th>\n",
       "      <td>4</td>\n",
       "      <td>14</td>\n",
       "      <td>114.440002</td>\n",
       "      <td>112.849998</td>\n",
       "      <td>116.400002</td>\n",
       "      <td>111.120003</td>\n",
       "      <td>17140.725581</td>\n",
       "      <td>True</td>\n",
       "      <td>0</td>\n",
       "    </tr>\n",
       "  </tbody>\n",
       "</table>\n",
       "</div>"
      ],
      "text/plain": [
       "   level_0  index   Adj Close        Open        High         Low  \\\n",
       "0        0     10  102.697998   98.750000  102.891998   98.433998   \n",
       "1        1     11  102.099998  101.522003  103.134003  100.632004   \n",
       "2        2     12  109.440002  106.050003  109.716003  105.681999   \n",
       "3        3     13  113.912003  114.377998  118.900002  111.820000   \n",
       "4        4     14  114.440002  112.849998  116.400002  111.120003   \n",
       "\n",
       "   Predicted Close  Target  Gain  \n",
       "0     15125.546703    True  1000  \n",
       "1     15405.343422    True     0  \n",
       "2     16208.381920    True     0  \n",
       "3     17308.755507    True     0  \n",
       "4     17140.725581    True     0  "
      ]
     },
     "execution_count": 1085,
     "metadata": {},
     "output_type": "execute_result"
    }
   ],
   "source": [
    "X.head()"
   ]
  },
  {
   "cell_type": "code",
   "execution_count": 1086,
   "id": "7abd540a-aba0-43cb-be9b-f683f75fd5be",
   "metadata": {},
   "outputs": [],
   "source": [
    "# Defining a function to calculate the gain based on the percentage increase in stock price from open to close.\n",
    "def calcGain(open_price, close_price, inv_size):\n",
    "    percentage_increase=(close_price-open_price)/open_price\n",
    "    return inv_size+(inv_size*percentage_increase)\n",
    "\n",
    "for index, row in X.iterrows():\n",
    "    if index > 0 :\n",
    "        prev_inv=X.loc[[index-1]]['Gain']\n",
    "        gains=calcGain(row['Open'],row['Adj Close'], prev_inv)\n",
    "        X.at[index,'Gain']=gains"
   ]
  },
  {
   "cell_type": "code",
   "execution_count": 1087,
   "id": "879a6f41-3183-441d-8af0-1d87454ebe99",
   "metadata": {},
   "outputs": [
    {
     "data": {
      "text/plain": [
       "243"
      ]
     },
     "execution_count": 1087,
     "metadata": {},
     "output_type": "execute_result"
    }
   ],
   "source": [
    "len(X)"
   ]
  },
  {
   "cell_type": "code",
   "execution_count": 1088,
   "id": "a1e20cd8-dbe0-44fd-8dae-9b12affc7774",
   "metadata": {},
   "outputs": [
    {
     "data": {
      "text/html": [
       "<div>\n",
       "<style scoped>\n",
       "    .dataframe tbody tr th:only-of-type {\n",
       "        vertical-align: middle;\n",
       "    }\n",
       "\n",
       "    .dataframe tbody tr th {\n",
       "        vertical-align: top;\n",
       "    }\n",
       "\n",
       "    .dataframe thead th {\n",
       "        text-align: right;\n",
       "    }\n",
       "</style>\n",
       "<table border=\"1\" class=\"dataframe\">\n",
       "  <thead>\n",
       "    <tr style=\"text-align: right;\">\n",
       "      <th></th>\n",
       "      <th>level_0</th>\n",
       "      <th>index</th>\n",
       "      <th>Adj Close</th>\n",
       "      <th>Open</th>\n",
       "      <th>High</th>\n",
       "      <th>Low</th>\n",
       "      <th>Predicted Close</th>\n",
       "      <th>Target</th>\n",
       "      <th>Gain</th>\n",
       "    </tr>\n",
       "  </thead>\n",
       "  <tbody>\n",
       "    <tr>\n",
       "      <th>233</th>\n",
       "      <td>233</td>\n",
       "      <td>243</td>\n",
       "      <td>655.900024</td>\n",
       "      <td>628.190002</td>\n",
       "      <td>658.820007</td>\n",
       "      <td>619.500000</td>\n",
       "      <td>97358.068538</td>\n",
       "      <td>True</td>\n",
       "      <td>1258</td>\n",
       "    </tr>\n",
       "    <tr>\n",
       "      <th>234</th>\n",
       "      <td>234</td>\n",
       "      <td>244</td>\n",
       "      <td>695.000000</td>\n",
       "      <td>668.900024</td>\n",
       "      <td>695.000000</td>\n",
       "      <td>628.539978</td>\n",
       "      <td>101404.554832</td>\n",
       "      <td>True</td>\n",
       "      <td>1307</td>\n",
       "    </tr>\n",
       "    <tr>\n",
       "      <th>235</th>\n",
       "      <td>235</td>\n",
       "      <td>245</td>\n",
       "      <td>649.859985</td>\n",
       "      <td>666.239990</td>\n",
       "      <td>668.500000</td>\n",
       "      <td>646.070007</td>\n",
       "      <td>101013.072949</td>\n",
       "      <td>True</td>\n",
       "      <td>1274</td>\n",
       "    </tr>\n",
       "    <tr>\n",
       "      <th>236</th>\n",
       "      <td>236</td>\n",
       "      <td>246</td>\n",
       "      <td>640.340027</td>\n",
       "      <td>648.000000</td>\n",
       "      <td>649.880005</td>\n",
       "      <td>614.229980</td>\n",
       "      <td>97657.205387</td>\n",
       "      <td>True</td>\n",
       "      <td>1258</td>\n",
       "    </tr>\n",
       "    <tr>\n",
       "      <th>237</th>\n",
       "      <td>237</td>\n",
       "      <td>247</td>\n",
       "      <td>645.979980</td>\n",
       "      <td>632.200012</td>\n",
       "      <td>651.500000</td>\n",
       "      <td>622.570007</td>\n",
       "      <td>97473.162504</td>\n",
       "      <td>True</td>\n",
       "      <td>1285</td>\n",
       "    </tr>\n",
       "    <tr>\n",
       "      <th>238</th>\n",
       "      <td>238</td>\n",
       "      <td>248</td>\n",
       "      <td>661.770020</td>\n",
       "      <td>642.989990</td>\n",
       "      <td>666.090027</td>\n",
       "      <td>641.000000</td>\n",
       "      <td>99676.784439</td>\n",
       "      <td>True</td>\n",
       "      <td>1322</td>\n",
       "    </tr>\n",
       "    <tr>\n",
       "      <th>239</th>\n",
       "      <td>239</td>\n",
       "      <td>249</td>\n",
       "      <td>663.690002</td>\n",
       "      <td>674.510010</td>\n",
       "      <td>681.400024</td>\n",
       "      <td>660.799988</td>\n",
       "      <td>102859.562714</td>\n",
       "      <td>True</td>\n",
       "      <td>1300</td>\n",
       "    </tr>\n",
       "    <tr>\n",
       "      <th>240</th>\n",
       "      <td>240</td>\n",
       "      <td>250</td>\n",
       "      <td>665.989990</td>\n",
       "      <td>661.000000</td>\n",
       "      <td>669.900024</td>\n",
       "      <td>655.000000</td>\n",
       "      <td>101557.690756</td>\n",
       "      <td>True</td>\n",
       "      <td>1309</td>\n",
       "    </tr>\n",
       "    <tr>\n",
       "      <th>241</th>\n",
       "      <td>241</td>\n",
       "      <td>251</td>\n",
       "      <td>694.780029</td>\n",
       "      <td>672.000000</td>\n",
       "      <td>696.599976</td>\n",
       "      <td>668.359985</td>\n",
       "      <td>103983.703472</td>\n",
       "      <td>True</td>\n",
       "      <td>1353</td>\n",
       "    </tr>\n",
       "    <tr>\n",
       "      <th>242</th>\n",
       "      <td>242</td>\n",
       "      <td>252</td>\n",
       "      <td>705.669983</td>\n",
       "      <td>699.989990</td>\n",
       "      <td>718.719971</td>\n",
       "      <td>691.119995</td>\n",
       "      <td>107458.823930</td>\n",
       "      <td>True</td>\n",
       "      <td>1363</td>\n",
       "    </tr>\n",
       "  </tbody>\n",
       "</table>\n",
       "</div>"
      ],
      "text/plain": [
       "     level_0  index   Adj Close        Open        High         Low  \\\n",
       "233      233    243  655.900024  628.190002  658.820007  619.500000   \n",
       "234      234    244  695.000000  668.900024  695.000000  628.539978   \n",
       "235      235    245  649.859985  666.239990  668.500000  646.070007   \n",
       "236      236    246  640.340027  648.000000  649.880005  614.229980   \n",
       "237      237    247  645.979980  632.200012  651.500000  622.570007   \n",
       "238      238    248  661.770020  642.989990  666.090027  641.000000   \n",
       "239      239    249  663.690002  674.510010  681.400024  660.799988   \n",
       "240      240    250  665.989990  661.000000  669.900024  655.000000   \n",
       "241      241    251  694.780029  672.000000  696.599976  668.359985   \n",
       "242      242    252  705.669983  699.989990  718.719971  691.119995   \n",
       "\n",
       "     Predicted Close  Target  Gain  \n",
       "233     97358.068538    True  1258  \n",
       "234    101404.554832    True  1307  \n",
       "235    101013.072949    True  1274  \n",
       "236     97657.205387    True  1258  \n",
       "237     97473.162504    True  1285  \n",
       "238     99676.784439    True  1322  \n",
       "239    102859.562714    True  1300  \n",
       "240    101557.690756    True  1309  \n",
       "241    103983.703472    True  1353  \n",
       "242    107458.823930    True  1363  "
      ]
     },
     "execution_count": 1088,
     "metadata": {},
     "output_type": "execute_result"
    }
   ],
   "source": [
    "X.tail(10)"
   ]
  },
  {
   "cell_type": "code",
   "execution_count": 1089,
   "id": "901f090b-446e-4f1d-bcfa-237abdec1e15",
   "metadata": {},
   "outputs": [
    {
     "data": {
      "text/plain": [
       "(243, 9)"
      ]
     },
     "execution_count": 1089,
     "metadata": {},
     "output_type": "execute_result"
    }
   ],
   "source": [
    "X.shape"
   ]
  },
  {
   "cell_type": "markdown",
   "id": "bb7fa061-0ac6-45e8-a4fd-7e0e5fbd776f",
   "metadata": {},
   "source": [
    "this is not correct the gain is proportional to the amount invested you need to calculate the percentage increase to apply it to the investment size"
   ]
  },
  {
   "cell_type": "code",
   "execution_count": 1090,
   "id": "c046ad07-0d22-48ee-afe8-7b48aaf5beff",
   "metadata": {},
   "outputs": [
    {
     "data": {
      "text/plain": [
       "<AxesSubplot:>"
      ]
     },
     "execution_count": 1090,
     "metadata": {},
     "output_type": "execute_result"
    },
    {
     "data": {
      "image/png": "[encoded data removed]",
      "text/plain": [
       "<Figure size 432x288 with 1 Axes>"
      ]
     },
     "metadata": {},
     "output_type": "display_data"
    }
   ],
   "source": [
    "# Plotting the cumulative gains from the trade signals over time to evaluate the strategy's performance.\n",
    "X['Gain'].plot()"
   ]
  },
  {
   "cell_type": "code",
   "execution_count": 1125,
   "id": "3c4126a9-3098-494e-bef0-c80d9f060289",
   "metadata": {},
   "outputs": [],
   "source": [
    "# Loading the 2021 Tesla stock data and preparing it for a similar analysis to see how the strategy performs on new data.\n",
    "df_tsla_2021=pd.read_csv('./Demo Datasets/TSLA_2021.csv')"
   ]
  },
  {
   "cell_type": "code",
   "execution_count": 1133,
   "id": "a89333a9-22d6-4457-873d-b9a9cb7deaa5",
   "metadata": {},
   "outputs": [
    {
     "data": {
      "text/html": [
       "<div>\n",
       "<style scoped>\n",
       "    .dataframe tbody tr th:only-of-type {\n",
       "        vertical-align: middle;\n",
       "    }\n",
       "\n",
       "    .dataframe tbody tr th {\n",
       "        vertical-align: top;\n",
       "    }\n",
       "\n",
       "    .dataframe thead th {\n",
       "        text-align: right;\n",
       "    }\n",
       "</style>\n",
       "<table border=\"1\" class=\"dataframe\">\n",
       "  <thead>\n",
       "    <tr style=\"text-align: right;\">\n",
       "      <th></th>\n",
       "      <th>index</th>\n",
       "      <th>Adj Close</th>\n",
       "      <th>Open</th>\n",
       "      <th>High</th>\n",
       "      <th>Low</th>\n",
       "    </tr>\n",
       "  </thead>\n",
       "  <tbody>\n",
       "    <tr>\n",
       "      <th>0</th>\n",
       "      <td>0</td>\n",
       "      <td>714.500000</td>\n",
       "      <td>762.640015</td>\n",
       "      <td>768.500000</td>\n",
       "      <td>710.200012</td>\n",
       "    </tr>\n",
       "    <tr>\n",
       "      <th>1</th>\n",
       "      <td>1</td>\n",
       "      <td>698.840027</td>\n",
       "      <td>662.130005</td>\n",
       "      <td>713.609985</td>\n",
       "      <td>619.000000</td>\n",
       "    </tr>\n",
       "    <tr>\n",
       "      <th>2</th>\n",
       "      <td>2</td>\n",
       "      <td>742.020020</td>\n",
       "      <td>711.849976</td>\n",
       "      <td>745.000000</td>\n",
       "      <td>694.169983</td>\n",
       "    </tr>\n",
       "    <tr>\n",
       "      <th>3</th>\n",
       "      <td>3</td>\n",
       "      <td>682.219971</td>\n",
       "      <td>726.150024</td>\n",
       "      <td>737.210022</td>\n",
       "      <td>670.580017</td>\n",
       "    </tr>\n",
       "    <tr>\n",
       "      <th>4</th>\n",
       "      <td>4</td>\n",
       "      <td>675.500000</td>\n",
       "      <td>700.000000</td>\n",
       "      <td>706.700012</td>\n",
       "      <td>659.510010</td>\n",
       "    </tr>\n",
       "  </tbody>\n",
       "</table>\n",
       "</div>"
      ],
      "text/plain": [
       "   index   Adj Close        Open        High         Low\n",
       "0      0  714.500000  762.640015  768.500000  710.200012\n",
       "1      1  698.840027  662.130005  713.609985  619.000000\n",
       "2      2  742.020020  711.849976  745.000000  694.169983\n",
       "3      3  682.219971  726.150024  737.210022  670.580017\n",
       "4      4  675.500000  700.000000  706.700012  659.510010"
      ]
     },
     "execution_count": 1133,
     "metadata": {},
     "output_type": "execute_result"
    }
   ],
   "source": [
    "X_2021=df_tsla_2021[['Adj Close', 'Open', 'High', 'Low']].reset_index()\n",
    "\n",
    "X_2021.head()"
   ]
  },
  {
   "cell_type": "code",
   "execution_count": 1134,
   "id": "1fbca303-0384-470a-87b2-487ccc0fae9a",
   "metadata": {},
   "outputs": [],
   "source": [
    "X_2021_sc=scaler.transform(X_2021)\n",
    "\n",
    "X_2021.ta.ema(close=\"Adj Close\",len=10,append=True)\n",
    "\n",
    "X_2021.fillna(0, inplace=True)\n",
    "\n",
    "X_train_2021,X_test_2021,y_train_2021,y_test_2021=train_test_split(X_2021_sc,X_2021[['EMA_10']],test_size=.2)\n",
    "\n",
    "model.fit(X_train_2021,y_train_2021)\n",
    "\n",
    "X_2021['Predicted Close']=model.predict(X_2021_sc)\n",
    "\n",
    "X_2021.head()\n",
    "\n",
    "X_2021['Target']=X_2021['Open']<X_2021['Predicted Close']\n",
    "\n",
    "is_a_trade=X_2021['Target']==True\n",
    "X_2021=X_2021[is_a_trade]\n",
    "\n"
   ]
  },
  {
   "cell_type": "code",
   "execution_count": 1136,
   "id": "4336aedf-aa43-466e-82e8-3be893698807",
   "metadata": {},
   "outputs": [
    {
     "data": {
      "text/plain": [
       "(90, 9)"
      ]
     },
     "execution_count": 1136,
     "metadata": {},
     "output_type": "execute_result"
    }
   ],
   "source": [
    "X_2021.shape\n"
   ]
  },
  {
   "cell_type": "code",
   "execution_count": 1141,
   "id": "054b5ea7-461c-4d29-a520-59516ff8d076",
   "metadata": {},
   "outputs": [],
   "source": [
    "X_2021['Gain']=0\n",
    "\n",
    "X_2021.at[0,'Gain']=100"
   ]
  },
  {
   "cell_type": "code",
   "execution_count": 1145,
   "id": "afa68154-1e0f-41c6-8c9b-74063c98cf05",
   "metadata": {},
   "outputs": [
    {
     "name": "stdout",
     "output_type": "stream",
     "text": [
      "Model coefficients:  [[ 109.50756175  156.73588681  137.11562547 -230.41724665   29.89749192]]\n",
      "Mean Absolute Error:  82.32747514623624\n",
      "Coefficient of determination:  0.7380043488949025\n"
     ]
    }
   ],
   "source": [
    "y_pred_2021=model.predict(X_test_2021)\n",
    "\n",
    "print('Model coefficients: ',model.coef_)\n",
    "print('Mean Absolute Error: ',mean_absolute_error(y_test_2021, y_pred_2021))\n",
    "print('Coefficient of determination: ',r2_score(y_test_2021, y_pred_2021))"
   ]
  },
  {
   "cell_type": "code",
   "execution_count": 1139,
   "id": "a7bcf2e6-4ccf-4559-a31a-9592c3025f55",
   "metadata": {},
   "outputs": [
    {
     "ename": "KeyError",
     "evalue": "\"None of [Int64Index([101], dtype='int64')] are in the [index]\"",
     "output_type": "error",
     "traceback": [
      "\u001b[0;31m---------------------------------------------------------------------------\u001b[0m",
      "\u001b[0;31mKeyError\u001b[0m                                  Traceback (most recent call last)",
      "\u001b[0;32m/var/folders/kj/661xb2vd6z3f113sq8z5bh_c0000gn/T/ipykernel_97125/130656213.py\u001b[0m in \u001b[0;36m<module>\u001b[0;34m\u001b[0m\n\u001b[1;32m      5\u001b[0m \u001b[0;32mfor\u001b[0m \u001b[0mindex\u001b[0m\u001b[0;34m,\u001b[0m \u001b[0mrow\u001b[0m \u001b[0;32min\u001b[0m \u001b[0mX_2021\u001b[0m\u001b[0;34m.\u001b[0m\u001b[0miterrows\u001b[0m\u001b[0;34m(\u001b[0m\u001b[0;34m)\u001b[0m\u001b[0;34m:\u001b[0m\u001b[0;34m\u001b[0m\u001b[0;34m\u001b[0m\u001b[0m\n\u001b[1;32m      6\u001b[0m     \u001b[0;32mif\u001b[0m \u001b[0mindex\u001b[0m \u001b[0;34m>\u001b[0m \u001b[0;36m0\u001b[0m \u001b[0;34m:\u001b[0m\u001b[0;34m\u001b[0m\u001b[0;34m\u001b[0m\u001b[0m\n\u001b[0;32m----> 7\u001b[0;31m         \u001b[0mprev_inv\u001b[0m\u001b[0;34m=\u001b[0m\u001b[0mX_2021\u001b[0m\u001b[0;34m.\u001b[0m\u001b[0mloc\u001b[0m\u001b[0;34m[\u001b[0m\u001b[0;34m[\u001b[0m\u001b[0mindex\u001b[0m\u001b[0;34m-\u001b[0m\u001b[0;36m1\u001b[0m\u001b[0;34m]\u001b[0m\u001b[0;34m]\u001b[0m\u001b[0;34m[\u001b[0m\u001b[0;34m'Gain'\u001b[0m\u001b[0;34m]\u001b[0m\u001b[0;34m\u001b[0m\u001b[0;34m\u001b[0m\u001b[0m\n\u001b[0m\u001b[1;32m      8\u001b[0m         \u001b[0mgains\u001b[0m\u001b[0;34m=\u001b[0m\u001b[0mcalcGain\u001b[0m\u001b[0;34m(\u001b[0m\u001b[0mrow\u001b[0m\u001b[0;34m[\u001b[0m\u001b[0;34m'Open'\u001b[0m\u001b[0;34m]\u001b[0m\u001b[0;34m,\u001b[0m\u001b[0mrow\u001b[0m\u001b[0;34m[\u001b[0m\u001b[0;34m'Adj Close'\u001b[0m\u001b[0;34m]\u001b[0m\u001b[0;34m,\u001b[0m \u001b[0mprev_inv\u001b[0m\u001b[0;34m)\u001b[0m\u001b[0;34m\u001b[0m\u001b[0;34m\u001b[0m\u001b[0m\n\u001b[1;32m      9\u001b[0m         \u001b[0mX_2021\u001b[0m\u001b[0;34m.\u001b[0m\u001b[0mat\u001b[0m\u001b[0;34m[\u001b[0m\u001b[0mindex\u001b[0m\u001b[0;34m,\u001b[0m\u001b[0;34m'Gain'\u001b[0m\u001b[0;34m]\u001b[0m\u001b[0;34m=\u001b[0m\u001b[0mgains\u001b[0m\u001b[0;34m\u001b[0m\u001b[0;34m\u001b[0m\u001b[0m\n",
      "\u001b[0;32m~/anaconda3/lib/python3.7/site-packages/pandas/core/indexing.py\u001b[0m in \u001b[0;36m__getitem__\u001b[0;34m(self, key)\u001b[0m\n\u001b[1;32m    929\u001b[0m \u001b[0;34m\u001b[0m\u001b[0m\n\u001b[1;32m    930\u001b[0m             \u001b[0mmaybe_callable\u001b[0m \u001b[0;34m=\u001b[0m \u001b[0mcom\u001b[0m\u001b[0;34m.\u001b[0m\u001b[0mapply_if_callable\u001b[0m\u001b[0;34m(\u001b[0m\u001b[0mkey\u001b[0m\u001b[0;34m,\u001b[0m \u001b[0mself\u001b[0m\u001b[0;34m.\u001b[0m\u001b[0mobj\u001b[0m\u001b[0;34m)\u001b[0m\u001b[0;34m\u001b[0m\u001b[0;34m\u001b[0m\u001b[0m\n\u001b[0;32m--> 931\u001b[0;31m             \u001b[0;32mreturn\u001b[0m \u001b[0mself\u001b[0m\u001b[0;34m.\u001b[0m\u001b[0m_getitem_axis\u001b[0m\u001b[0;34m(\u001b[0m\u001b[0mmaybe_callable\u001b[0m\u001b[0;34m,\u001b[0m \u001b[0maxis\u001b[0m\u001b[0;34m=\u001b[0m\u001b[0maxis\u001b[0m\u001b[0;34m)\u001b[0m\u001b[0;34m\u001b[0m\u001b[0;34m\u001b[0m\u001b[0m\n\u001b[0m\u001b[1;32m    932\u001b[0m \u001b[0;34m\u001b[0m\u001b[0m\n\u001b[1;32m    933\u001b[0m     \u001b[0;32mdef\u001b[0m \u001b[0m_is_scalar_access\u001b[0m\u001b[0;34m(\u001b[0m\u001b[0mself\u001b[0m\u001b[0;34m,\u001b[0m \u001b[0mkey\u001b[0m\u001b[0;34m:\u001b[0m \u001b[0mtuple\u001b[0m\u001b[0;34m)\u001b[0m\u001b[0;34m:\u001b[0m\u001b[0;34m\u001b[0m\u001b[0;34m\u001b[0m\u001b[0m\n",
      "\u001b[0;32m~/anaconda3/lib/python3.7/site-packages/pandas/core/indexing.py\u001b[0m in \u001b[0;36m_getitem_axis\u001b[0;34m(self, key, axis)\u001b[0m\n\u001b[1;32m   1151\u001b[0m                     \u001b[0;32mraise\u001b[0m \u001b[0mValueError\u001b[0m\u001b[0;34m(\u001b[0m\u001b[0;34m\"Cannot index with multidimensional key\"\u001b[0m\u001b[0;34m)\u001b[0m\u001b[0;34m\u001b[0m\u001b[0;34m\u001b[0m\u001b[0m\n\u001b[1;32m   1152\u001b[0m \u001b[0;34m\u001b[0m\u001b[0m\n\u001b[0;32m-> 1153\u001b[0;31m                 \u001b[0;32mreturn\u001b[0m \u001b[0mself\u001b[0m\u001b[0;34m.\u001b[0m\u001b[0m_getitem_iterable\u001b[0m\u001b[0;34m(\u001b[0m\u001b[0mkey\u001b[0m\u001b[0;34m,\u001b[0m \u001b[0maxis\u001b[0m\u001b[0;34m=\u001b[0m\u001b[0maxis\u001b[0m\u001b[0;34m)\u001b[0m\u001b[0;34m\u001b[0m\u001b[0;34m\u001b[0m\u001b[0m\n\u001b[0m\u001b[1;32m   1154\u001b[0m \u001b[0;34m\u001b[0m\u001b[0m\n\u001b[1;32m   1155\u001b[0m             \u001b[0;31m# nested tuple slicing\u001b[0m\u001b[0;34m\u001b[0m\u001b[0;34m\u001b[0m\u001b[0;34m\u001b[0m\u001b[0m\n",
      "\u001b[0;32m~/anaconda3/lib/python3.7/site-packages/pandas/core/indexing.py\u001b[0m in \u001b[0;36m_getitem_iterable\u001b[0;34m(self, key, axis)\u001b[0m\n\u001b[1;32m   1091\u001b[0m \u001b[0;34m\u001b[0m\u001b[0m\n\u001b[1;32m   1092\u001b[0m         \u001b[0;31m# A collection of keys\u001b[0m\u001b[0;34m\u001b[0m\u001b[0;34m\u001b[0m\u001b[0;34m\u001b[0m\u001b[0m\n\u001b[0;32m-> 1093\u001b[0;31m         \u001b[0mkeyarr\u001b[0m\u001b[0;34m,\u001b[0m \u001b[0mindexer\u001b[0m \u001b[0;34m=\u001b[0m \u001b[0mself\u001b[0m\u001b[0;34m.\u001b[0m\u001b[0m_get_listlike_indexer\u001b[0m\u001b[0;34m(\u001b[0m\u001b[0mkey\u001b[0m\u001b[0;34m,\u001b[0m \u001b[0maxis\u001b[0m\u001b[0;34m)\u001b[0m\u001b[0;34m\u001b[0m\u001b[0;34m\u001b[0m\u001b[0m\n\u001b[0m\u001b[1;32m   1094\u001b[0m         return self.obj._reindex_with_indexers(\n\u001b[1;32m   1095\u001b[0m             \u001b[0;34m{\u001b[0m\u001b[0maxis\u001b[0m\u001b[0;34m:\u001b[0m \u001b[0;34m[\u001b[0m\u001b[0mkeyarr\u001b[0m\u001b[0;34m,\u001b[0m \u001b[0mindexer\u001b[0m\u001b[0;34m]\u001b[0m\u001b[0;34m}\u001b[0m\u001b[0;34m,\u001b[0m \u001b[0mcopy\u001b[0m\u001b[0;34m=\u001b[0m\u001b[0;32mTrue\u001b[0m\u001b[0;34m,\u001b[0m \u001b[0mallow_dups\u001b[0m\u001b[0;34m=\u001b[0m\u001b[0;32mTrue\u001b[0m\u001b[0;34m\u001b[0m\u001b[0;34m\u001b[0m\u001b[0m\n",
      "\u001b[0;32m~/anaconda3/lib/python3.7/site-packages/pandas/core/indexing.py\u001b[0m in \u001b[0;36m_get_listlike_indexer\u001b[0;34m(self, key, axis)\u001b[0m\n\u001b[1;32m   1312\u001b[0m             \u001b[0mkeyarr\u001b[0m\u001b[0;34m,\u001b[0m \u001b[0mindexer\u001b[0m\u001b[0;34m,\u001b[0m \u001b[0mnew_indexer\u001b[0m \u001b[0;34m=\u001b[0m \u001b[0max\u001b[0m\u001b[0;34m.\u001b[0m\u001b[0m_reindex_non_unique\u001b[0m\u001b[0;34m(\u001b[0m\u001b[0mkeyarr\u001b[0m\u001b[0;34m)\u001b[0m\u001b[0;34m\u001b[0m\u001b[0;34m\u001b[0m\u001b[0m\n\u001b[1;32m   1313\u001b[0m \u001b[0;34m\u001b[0m\u001b[0m\n\u001b[0;32m-> 1314\u001b[0;31m         \u001b[0mself\u001b[0m\u001b[0;34m.\u001b[0m\u001b[0m_validate_read_indexer\u001b[0m\u001b[0;34m(\u001b[0m\u001b[0mkeyarr\u001b[0m\u001b[0;34m,\u001b[0m \u001b[0mindexer\u001b[0m\u001b[0;34m,\u001b[0m \u001b[0maxis\u001b[0m\u001b[0;34m)\u001b[0m\u001b[0;34m\u001b[0m\u001b[0;34m\u001b[0m\u001b[0m\n\u001b[0m\u001b[1;32m   1315\u001b[0m \u001b[0;34m\u001b[0m\u001b[0m\n\u001b[1;32m   1316\u001b[0m         if needs_i8_conversion(ax.dtype) or isinstance(\n",
      "\u001b[0;32m~/anaconda3/lib/python3.7/site-packages/pandas/core/indexing.py\u001b[0m in \u001b[0;36m_validate_read_indexer\u001b[0;34m(self, key, indexer, axis)\u001b[0m\n\u001b[1;32m   1372\u001b[0m                 \u001b[0;32mif\u001b[0m \u001b[0muse_interval_msg\u001b[0m\u001b[0;34m:\u001b[0m\u001b[0;34m\u001b[0m\u001b[0;34m\u001b[0m\u001b[0m\n\u001b[1;32m   1373\u001b[0m                     \u001b[0mkey\u001b[0m \u001b[0;34m=\u001b[0m \u001b[0mlist\u001b[0m\u001b[0;34m(\u001b[0m\u001b[0mkey\u001b[0m\u001b[0;34m)\u001b[0m\u001b[0;34m\u001b[0m\u001b[0;34m\u001b[0m\u001b[0m\n\u001b[0;32m-> 1374\u001b[0;31m                 \u001b[0;32mraise\u001b[0m \u001b[0mKeyError\u001b[0m\u001b[0;34m(\u001b[0m\u001b[0;34mf\"None of [{key}] are in the [{axis_name}]\"\u001b[0m\u001b[0;34m)\u001b[0m\u001b[0;34m\u001b[0m\u001b[0;34m\u001b[0m\u001b[0m\n\u001b[0m\u001b[1;32m   1375\u001b[0m \u001b[0;34m\u001b[0m\u001b[0m\n\u001b[1;32m   1376\u001b[0m             \u001b[0mnot_found\u001b[0m \u001b[0;34m=\u001b[0m \u001b[0mlist\u001b[0m\u001b[0;34m(\u001b[0m\u001b[0mensure_index\u001b[0m\u001b[0;34m(\u001b[0m\u001b[0mkey\u001b[0m\u001b[0;34m)\u001b[0m\u001b[0;34m[\u001b[0m\u001b[0mmissing_mask\u001b[0m\u001b[0;34m.\u001b[0m\u001b[0mnonzero\u001b[0m\u001b[0;34m(\u001b[0m\u001b[0;34m)\u001b[0m\u001b[0;34m[\u001b[0m\u001b[0;36m0\u001b[0m\u001b[0;34m]\u001b[0m\u001b[0;34m]\u001b[0m\u001b[0;34m.\u001b[0m\u001b[0munique\u001b[0m\u001b[0;34m(\u001b[0m\u001b[0;34m)\u001b[0m\u001b[0;34m)\u001b[0m\u001b[0;34m\u001b[0m\u001b[0;34m\u001b[0m\u001b[0m\n",
      "\u001b[0;31mKeyError\u001b[0m: \"None of [Int64Index([101], dtype='int64')] are in the [index]\""
     ]
    }
   ],
   "source": [
    "# Defining a function to calculate the gain based on the percentage increase in stock price from open to close.\n",
    "def calcGain(open_price, close_price, inv_size):\n",
    "    percentage_increase=(close_price-open_price)/open_price\n",
    "    return inv_size+(inv_size*percentage_increase)\n",
    "\n",
    "for index, row in X_2021.iterrows():\n",
    "    if index > 0 :\n",
    "        prev_inv=X_2021.loc[[index-1]]['Gain']\n",
    "        gains=calcGain(row['Open'],row['Adj Close'], prev_inv)\n",
    "        X_2021.at[index,'Gain']=gains"
   ]
  },
  {
   "cell_type": "code",
   "execution_count": 1140,
   "id": "7129394b-a351-4935-9db0-34303db5f51e",
   "metadata": {},
   "outputs": [
    {
     "data": {
      "text/plain": [
       "<AxesSubplot:>"
      ]
     },
     "execution_count": 1140,
     "metadata": {},
     "output_type": "execute_result"
    },
    {
     "data": {
      "image/png": "[encoded data removed]",
      "text/plain": [
       "<Figure size 432x288 with 1 Axes>"
      ]
     },
     "metadata": {},
     "output_type": "display_data"
    }
   ],
   "source": [
    "X_2021['Gain'].plot()"
   ]
  },
  {
   "cell_type": "code",
   "execution_count": null,
   "id": "41d79d12-1c4c-423a-aad8-4083bc20e4e4",
   "metadata": {},
   "outputs": [],
   "source": []
  }
 ],
 "metadata": {
  "kernelspec": {
   "display_name": "Python 3 (ipykernel)",
   "language": "python",
   "name": "python3"
  },
  "language_info": {
   "codemirror_mode": {
    "name": "ipython",
    "version": 3
   },
   "file_extension": ".py",
   "mimetype": "text/x-python",
   "name": "python",
   "nbconvert_exporter": "python",
   "pygments_lexer": "ipython3",
   "version": "3.12.4"
  }
 },
 "nbformat": 4,
 "nbformat_minor": 5
}
